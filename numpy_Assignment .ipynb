{
 "cells": [
  {
   "cell_type": "code",
   "execution_count": 1,
   "id": "21a30a66",
   "metadata": {},
   "outputs": [],
   "source": [
    "import numpy as np "
   ]
  },
  {
   "cell_type": "markdown",
   "id": "3851239f",
   "metadata": {},
   "source": [
    "### Question 1 : "
   ]
  },
  {
   "cell_type": "code",
   "execution_count": 2,
   "id": "4d24ab5d",
   "metadata": {},
   "outputs": [
    {
     "name": "stdout",
     "output_type": "stream",
     "text": [
      "[1 2 3 4 5]\n",
      "<class 'numpy.ndarray'>\n"
     ]
    }
   ],
   "source": [
    "arr =np.array([1,2,3,4,5])\n",
    "print(arr)\n",
    "print(type(arr))"
   ]
  },
  {
   "cell_type": "markdown",
   "id": "a2d60d70",
   "metadata": {},
   "source": [
    "### Question 2 : "
   ]
  },
  {
   "cell_type": "code",
   "execution_count": 35,
   "id": "a6709db0",
   "metadata": {},
   "outputs": [
    {
     "name": "stdout",
     "output_type": "stream",
     "text": [
      "<class 'numpy.ndarray'>\n",
      "float64\n"
     ]
    }
   ],
   "source": [
    "arr = np.array([1.5, 2.6, 3.7])\n",
    "print(type(arr))\n",
    "print(arr.dtype)"
   ]
  },
  {
   "cell_type": "code",
   "execution_count": 36,
   "id": "ed0ab59b",
   "metadata": {},
   "outputs": [
    {
     "name": "stdout",
     "output_type": "stream",
     "text": [
      "float64\n",
      "[1.5 2.6 3.7]\n"
     ]
    }
   ],
   "source": [
    "arr = np.array([1.5 , 2.6 , 3.7], dtype=np.float64)\n",
    "print(arr.dtype)\n",
    "print(arr)"
   ]
  },
  {
   "cell_type": "markdown",
   "id": "2fa750ec",
   "metadata": {},
   "source": [
    "### Question 3 : "
   ]
  },
  {
   "cell_type": "code",
   "execution_count": 39,
   "id": "4f9be89f",
   "metadata": {},
   "outputs": [
    {
     "name": "stdout",
     "output_type": "stream",
     "text": [
      "[2.+3.j 3.-2.j 4.+6.j]\n",
      "<class 'numpy.ndarray'>\n",
      "complex128\n"
     ]
    }
   ],
   "source": [
    "arr = np.array([2+3j ,3-2j ,4+6j] , dtype=np.complex128)\n",
    "print(arr)\n",
    "print(type(arr))\n",
    "print(arr.dtype)"
   ]
  },
  {
   "cell_type": "markdown",
   "id": "0369bc98",
   "metadata": {},
   "source": [
    "### Question 4 : "
   ]
  },
  {
   "cell_type": "code",
   "execution_count": 41,
   "id": "5a1275cf",
   "metadata": {},
   "outputs": [
    {
     "name": "stdout",
     "output_type": "stream",
     "text": [
      "float32\n"
     ]
    }
   ],
   "source": [
    "arr1 = np.array([1,2,3,4] , dtype = np.float32)\n",
    "print(arr1.dtype)\n"
   ]
  },
  {
   "cell_type": "markdown",
   "id": "e1202954",
   "metadata": {},
   "source": [
    "### Question 5 : "
   ]
  },
  {
   "cell_type": "code",
   "execution_count": 42,
   "id": "ccd48c19",
   "metadata": {},
   "outputs": [
    {
     "name": "stdout",
     "output_type": "stream",
     "text": [
      "float64\n",
      "[1. 2. 3. 4.]\n",
      "float32\n"
     ]
    }
   ],
   "source": [
    "arr = np.array([1.0, 2.0, 3.0, 4.0], dtype=np.float64)\n",
    "print(arr.dtype)\n",
    "# Convert to float32\n",
    "arr1 = arr.astype(np.float32)\n",
    "\n",
    "print(arr1)\n",
    "print(arr1.dtype)"
   ]
  },
  {
   "cell_type": "markdown",
   "id": "ea08b3eb",
   "metadata": {},
   "source": [
    "### Question 6 : Write a function array_attributes that takes a NumPy array as input and returns its shape, size, and data type."
   ]
  },
  {
   "cell_type": "code",
   "execution_count": 71,
   "id": "ab391fdb",
   "metadata": {},
   "outputs": [
    {
     "name": "stdout",
     "output_type": "stream",
     "text": [
      "the shape of the array is :  (2, 3)\n",
      "the size of the array is : 6\n",
      "the datatype of the array is :  int32\n"
     ]
    }
   ],
   "source": [
    "def array_attributes(arr) : \n",
    "    \n",
    "    \n",
    "    shape = arr.shape \n",
    "    size = arr.size \n",
    "    data_type = arr.dtype\n",
    "    \n",
    "    \n",
    "    return shape , size , data_type\n",
    "\n",
    "\n",
    "\n",
    "array = np.array([[1,2,3,4],[1,2,3,4]] )\n",
    "\n",
    "shape , size , data_type = array_attributes(arr)\n",
    "\n",
    "print(\"the shape of the array is : \", shape )\n",
    "print(\"the size of the array is :\" , size)\n",
    "print(\"the datatype of the array is : \" ,data_type)\n",
    "\n",
    "\n",
    "\n",
    "\n",
    "# array = np.array([[1,2,3,4],[1,2,3,4]])\n",
    "# print(array)\n",
    "# print(array.shape)\n",
    "# print(array.size)\n",
    "# print(array.dtype)"
   ]
  },
  {
   "cell_type": "markdown",
   "id": "b01e4f43",
   "metadata": {},
   "source": [
    "### Question 7 : Create a function array_dimension that takes a NumPy array as input and returns its dimensionality."
   ]
  },
  {
   "cell_type": "code",
   "execution_count": 49,
   "id": "e06f9cb0",
   "metadata": {},
   "outputs": [
    {
     "name": "stdout",
     "output_type": "stream",
     "text": [
      "2\n"
     ]
    }
   ],
   "source": [
    "array = np.array([[1,2,3,4],[1,2,3,4]])\n",
    "print(array.ndim)"
   ]
  },
  {
   "cell_type": "markdown",
   "id": "a3bba3f1",
   "metadata": {},
   "source": [
    "### Question 8 :  Design a function item_size_info that takes a NumPy array as input and returns the item size and the total size in bytes.\n"
   ]
  },
  {
   "cell_type": "code",
   "execution_count": 53,
   "id": "c5b90f56",
   "metadata": {},
   "outputs": [
    {
     "name": "stdout",
     "output_type": "stream",
     "text": [
      "16\n",
      "4\n"
     ]
    }
   ],
   "source": [
    "item_size_info = np.array([1,2,3,4])\n",
    "print(item_size_info.nbytes)\n",
    "print(item_size_info.size)"
   ]
  },
  {
   "cell_type": "markdown",
   "id": "f47de5f7",
   "metadata": {},
   "source": [
    "### Question 9 :  Create a function array_strides that takes a NumPy array as input and returns the strides of the array."
   ]
  },
  {
   "cell_type": "code",
   "execution_count": 57,
   "id": "60c5a647",
   "metadata": {},
   "outputs": [
    {
     "name": "stdout",
     "output_type": "stream",
     "text": [
      "Strides of the array: (12, 4)\n"
     ]
    }
   ],
   "source": [
    "def array_strides(arr):\n",
    "    return arr.strides\n",
    "\n",
    "# Example usage:\n",
    "arr = np.array([[1, 2, 3], [4, 5, 6]], dtype=np.int32)\n",
    "strides = array_strides(arr)\n",
    "print(\"Strides of the array:\", strides)"
   ]
  },
  {
   "cell_type": "code",
   "execution_count": 60,
   "id": "53b7040e",
   "metadata": {},
   "outputs": [
    {
     "name": "stdout",
     "output_type": "stream",
     "text": [
      " strides of the array is :  (12, 4)\n"
     ]
    }
   ],
   "source": [
    "# arr = np.array([[1, 2, 3], [4, 5, 6]], dtype=np.int32)\n",
    "# print(\" strides of the array is : \",arr.strides)"
   ]
  },
  {
   "cell_type": "markdown",
   "id": "8eae05d8",
   "metadata": {},
   "source": [
    "### Question 10 :  Design a function shape_stride_relationship that takes a NumPy array as input and returns the shape and strides of the array"
   ]
  },
  {
   "cell_type": "code",
   "execution_count": 64,
   "id": "19102541",
   "metadata": {},
   "outputs": [],
   "source": [
    "# arr = np.array([[1, 2, 3], [4, 5, 6]], dtype=np.int32)\n",
    "# print(\" strides of the array is : \",arr.strides)\n",
    "# print(\"size of the array is : \" ,arr.shape) "
   ]
  },
  {
   "cell_type": "code",
   "execution_count": 66,
   "id": "b453ac87",
   "metadata": {},
   "outputs": [
    {
     "name": "stdout",
     "output_type": "stream",
     "text": [
      "Strides of the array & Shape of the array  is :  ((12, 4), (2, 3))\n"
     ]
    }
   ],
   "source": [
    "def array(arr):\n",
    "    return arr.strides , arr.shape\n",
    "\n",
    "# Example usage:\n",
    "arr = np.array([[1, 2, 3], [4, 5, 6]], dtype=np.int32)\n",
    "strides = array(arr)\n",
    "print(\"Strides of the array & Shape of the array  is : \", strides) \n"
   ]
  },
  {
   "cell_type": "markdown",
   "id": "4122c852",
   "metadata": {},
   "source": [
    "### Question 11 :  Create a function `create_zeros_array` that takes an integer `n` as input and returns a NumPy array of zeros with `n` elements."
   ]
  },
  {
   "cell_type": "code",
   "execution_count": 72,
   "id": "1e5b9f7f",
   "metadata": {},
   "outputs": [
    {
     "name": "stdout",
     "output_type": "stream",
     "text": [
      "Array of zeros with 5 elements: [0. 0. 0. 0. 0.]\n"
     ]
    }
   ],
   "source": [
    "def create_zeros_array(n):\n",
    "    zeros_array = np.zeros(n)\n",
    "    return zeros_array\n",
    "\n",
    "# Example usage:\n",
    "n = 5\n",
    "zeros_array = create_zeros_array(n)\n",
    "print(\"Array of zeros with\", n, \"elements:\", zeros_array)\n"
   ]
  },
  {
   "cell_type": "code",
   "execution_count": 74,
   "id": "ecbfc19a",
   "metadata": {},
   "outputs": [
    {
     "name": "stdout",
     "output_type": "stream",
     "text": [
      "[1. 1. 1. 1. 1.]\n"
     ]
    }
   ],
   "source": [
    "def create_ones_array(n):\n",
    "    return np.ones(n) \n",
    "\n",
    "print(create_ones_array(5))\n"
   ]
  },
  {
   "cell_type": "markdown",
   "id": "46ef9129",
   "metadata": {},
   "source": [
    "###  12. Write a function `create_ones_matrix` that takes integers `rows` and `cols` as inputs and generates a 2D NumPy array filled with ones of size `rows x cols`."
   ]
  },
  {
   "cell_type": "code",
   "execution_count": 84,
   "id": "fc162356",
   "metadata": {},
   "outputs": [
    {
     "name": "stdout",
     "output_type": "stream",
     "text": [
      "Matrix of ones with size 2 x 2 :\n",
      " [[1. 1.]\n",
      " [1. 1.]]\n"
     ]
    }
   ],
   "source": [
    "def create_one_matrix(i,j):\n",
    "    ones_array = np.ones((i,j))\n",
    "    return ones_array \n",
    "i = 2 \n",
    "j = 2  \n",
    "\n",
    "ones_array =  create_one_matrix(i,j)\n",
    "print(\"Matrix of ones with size\",i, \"x\", j , \":\\n\", ones_array)"
   ]
  },
  {
   "cell_type": "markdown",
   "id": "8209ad91",
   "metadata": {},
   "source": [
    "### 13. Write a function `generate_range_array` that takes three integers start, stop, and step as arguments and\n",
    "### creates a NumPy array with a range starting from `start`, ending at stop (exclusive), and with the specified step "
   ]
  },
  {
   "cell_type": "markdown",
   "id": "5bf38d32",
   "metadata": {},
   "source": [
    "# "
   ]
  },
  {
   "cell_type": "code",
   "execution_count": 86,
   "id": "0babd6cf",
   "metadata": {},
   "outputs": [
    {
     "name": "stdout",
     "output_type": "stream",
     "text": [
      "Range array from 1 to 10 with step 2 :\n",
      " [1 3 5 7 9]\n"
     ]
    }
   ],
   "source": [
    "import numpy as np\n",
    "\n",
    "def generate_range_array(start, stop, step):\n",
    "    range_array = np.arange(start, stop, step)\n",
    "    return range_array\n",
    "\n",
    "# Example usage:\n",
    "start = 1\n",
    "stop = 10\n",
    "step = 2\n",
    "range_array = generate_range_array(start, stop, step)\n",
    "print(\"Range array from\", start, \"to\", stop, \"with step\", step, \":\\n\", range_array)\n"
   ]
  },
  {
   "cell_type": "markdown",
   "id": "04056f6e",
   "metadata": {},
   "source": [
    "### 14. Design a function `generate_linear_space` that takes two floats `start`, `stop`, and an integer `num` as arguments and generates a NumPy array with num equally spaced values between `start` and `stop` (inclusive)."
   ]
  },
  {
   "cell_type": "code",
   "execution_count": 87,
   "id": "d56d318a",
   "metadata": {},
   "outputs": [
    {
     "name": "stdout",
     "output_type": "stream",
     "text": [
      "Linear space array from 1.0 to 10.0 with 5 values:\n",
      " [ 1.    3.25  5.5   7.75 10.  ]\n"
     ]
    }
   ],
   "source": [
    "import numpy as np\n",
    "\n",
    "def generate_linear_space(start, stop, num):\n",
    "    linear_space_array = np.linspace(start, stop, num)\n",
    "    return linear_space_array\n",
    "\n",
    "# Example usage:\n",
    "start = 1.0\n",
    "stop = 10.0\n",
    "num = 5\n",
    "linear_space_array = generate_linear_space(start, stop, num)\n",
    "print(\"Linear space array from\", start, \"to\", stop, \"with\", num, \"values:\\n\", linear_space_array)\n"
   ]
  },
  {
   "cell_type": "markdown",
   "id": "23848b7a",
   "metadata": {},
   "source": [
    "### 15 Create a function `create_identity_matrix` that takes an integer `n` as input and generates a square\n",
    " ### identity matrix of size `n x n` using `numpy.eye`"
   ]
  },
  {
   "cell_type": "code",
   "execution_count": 92,
   "id": "0967fafa",
   "metadata": {},
   "outputs": [
    {
     "name": "stdout",
     "output_type": "stream",
     "text": [
      "Identity matrix of size 4 x 4:\n",
      "[[1. 0. 0. 0.]\n",
      " [0. 1. 0. 0.]\n",
      " [0. 0. 1. 0.]\n",
      " [0. 0. 0. 1.]]\n"
     ]
    }
   ],
   "source": [
    "# def  create_identity_matrix(n):\n",
    "    \n",
    "#     return np.eye\n",
    "\n",
    "# n = 3 \n",
    "    \n",
    "# print(create_identity_matrix(3)) \n",
    "\n",
    "def create_identity_matrix(n):\n",
    "    identity_matrix = np.eye(n)\n",
    "    return identity_matrix\n",
    "\n",
    "# Example usage:\n",
    "n = 4\n",
    "identity_matrix = create_identity_matrix(n)\n",
    "print(f\"Identity matrix of size {n} x {n}:\\n{identity_matrix}\")\n"
   ]
  },
  {
   "cell_type": "markdown",
   "id": "86b3dd10",
   "metadata": {},
   "source": [
    "### 16. Write a function that takes a Python list and converts it into a NumPy array"
   ]
  },
  {
   "cell_type": "code",
   "execution_count": 94,
   "id": "98c07d99",
   "metadata": {},
   "outputs": [
    {
     "name": "stdout",
     "output_type": "stream",
     "text": [
      "Type of array: <class 'numpy.ndarray'>\n"
     ]
    }
   ],
   "source": [
    "# array = np.array([1,2,3,4])\n",
    "# print(type(array))\n",
    "\n",
    "def list_to_numpy_array(py_list):\n",
    "    np_array = np.array(py_list)\n",
    "    return np_array\n",
    "\n",
    "# Example usage:\n",
    "python_list = [1, 2, 3, 4]\n",
    "array = list_to_numpy_array(python_list)\n",
    "print(\"Type of array:\", type(array))\n"
   ]
  },
  {
   "cell_type": "markdown",
   "id": "7278dde4",
   "metadata": {},
   "source": [
    "### 17. Create a NumPy array and demonstrate the use of `numpy.view` to create a new array object with the same data."
   ]
  },
  {
   "cell_type": "code",
   "execution_count": 96,
   "id": "82565a59",
   "metadata": {},
   "outputs": [
    {
     "name": "stdout",
     "output_type": "stream",
     "text": [
      "Original array:\n",
      " [[100   2   3]\n",
      " [  4   5   6]]\n",
      "View array:\n",
      " [[100   2   3]\n",
      " [  4   5   6]]\n"
     ]
    }
   ],
   "source": [
    "# Create a NumPy array\n",
    "original_array = np.array([[1, 2, 3], [4, 5, 6]])\n",
    "\n",
    "# Create a view of the original array\n",
    "view_array = original_array.view()\n",
    "\n",
    "# Modify the view array (this modifies the original array as well)\n",
    "view_array[0, 0] = 100\n",
    "\n",
    "# Print original array and view array\n",
    "print(\"Original array:\\n\", original_array)\n",
    "print(\"View array:\\n\", view_array)\n"
   ]
  },
  {
   "cell_type": "markdown",
   "id": "834a23c8",
   "metadata": {},
   "source": [
    "# 18. Write a function that takes two NumPy arrays and concatenates them along a specified axis."
   ]
  },
  {
   "cell_type": "code",
   "execution_count": 104,
   "id": "239b09c5",
   "metadata": {},
   "outputs": [
    {
     "name": "stdout",
     "output_type": "stream",
     "text": [
      "[[1 2 3]\n",
      " [4 6 7]\n",
      " [2 3 4]\n",
      " [4 5 6]]\n",
      "\n",
      "[[1, 2, 3], [4, 6, 7]]\n",
      "[[2, 3, 4], [4, 5, 6]]\n"
     ]
    }
   ],
   "source": [
    "def function(arr1,arr2): \n",
    "    arr = np.concatenate((arr1,arr2) , axis = 0 ) \n",
    "    return arr \n",
    "arr1 = [[1,2,3],[4,6,7]]\n",
    "arr2 = [[2,3,4],[4,5,6]]\n",
    "\n",
    "array = function(arr1,arr2)\n",
    "print(array)\n",
    "print()\n",
    "print(arr1)\n",
    "print(arr2)"
   ]
  },
  {
   "cell_type": "code",
   "execution_count": 105,
   "id": "c42da654",
   "metadata": {},
   "outputs": [
    {
     "name": "stdout",
     "output_type": "stream",
     "text": [
      "[[1 2 3 2 3 4]\n",
      " [4 6 7 4 5 6]]\n",
      "\n",
      "[[1, 2, 3], [4, 6, 7]]\n",
      "[[2, 3, 4], [4, 5, 6]]\n"
     ]
    }
   ],
   "source": [
    "def function(arr1,arr2): \n",
    "    arr = np.concatenate((arr1,arr2) , axis = 1) \n",
    "    return arr \n",
    "arr1 = [[1,2,3],[4,6,7]]\n",
    "arr2 = [[2,3,4],[4,5,6]]\n",
    "\n",
    "array = function(arr1,arr2)\n",
    "print(array)\n",
    "print()\n",
    "print(arr1)\n",
    "print(arr2)"
   ]
  },
  {
   "cell_type": "markdown",
   "id": "148fe6b5",
   "metadata": {},
   "source": [
    "### Create two NumPy arrays with different shapes and concatenate them horizontally using `numpy. concatenate`"
   ]
  },
  {
   "cell_type": "code",
   "execution_count": 109,
   "id": "c0b0d170",
   "metadata": {},
   "outputs": [
    {
     "name": "stdout",
     "output_type": "stream",
     "text": [
      "[[1 2 3]\n",
      " [2 3 4]\n",
      " [4 5 6]]\n",
      "\n",
      "[[1, 2, 3]]\n",
      "[[2, 3, 4], [4, 5, 6]]\n"
     ]
    }
   ],
   "source": [
    "def function(arr1,arr2): \n",
    "    arr = np.concatenate((arr1,arr2) , axis = 0 ) \n",
    "    return arr \n",
    "arr1 = [[1,2,3]]\n",
    "arr2 = [[2,3,4],[4,5,6]]\n",
    "\n",
    "array = function(arr1,arr2)\n",
    "print(array)\n",
    "print()\n",
    "print(arr1)\n",
    "print(arr2)"
   ]
  },
  {
   "cell_type": "markdown",
   "id": "82105293",
   "metadata": {},
   "source": [
    "# 20. Write a function that vertically stacks multiple NumPy arrays given as a list."
   ]
  },
  {
   "cell_type": "code",
   "execution_count": 110,
   "id": "435d0bfa",
   "metadata": {},
   "outputs": [
    {
     "name": "stdout",
     "output_type": "stream",
     "text": [
      "Vertically stacked array:\n",
      " [[ 1  2  3]\n",
      " [ 4  5  6]\n",
      " [ 7  8  9]\n",
      " [10 11 12]\n",
      " [13 14 15]]\n"
     ]
    }
   ],
   "source": [
    "import numpy as np\n",
    "\n",
    "def stack_arrays_vertically(arrays):\n",
    "    \"\"\"\n",
    "    Vertically stacks multiple NumPy arrays given as a list.\n",
    "\n",
    "    Parameters:\n",
    "    - arrays: List of NumPy arrays to be vertically stacked\n",
    "\n",
    "    Returns:\n",
    "    - Vertically stacked NumPy array\n",
    "    \"\"\"\n",
    "    stacked_array = np.vstack(arrays)\n",
    "    return stacked_array\n",
    "\n",
    "# Example usage:\n",
    "array1 = np.array([[1, 2, 3], [4, 5, 6]])\n",
    "array2 = np.array([[7, 8, 9], [10, 11, 12]])\n",
    "array3 = np.array([[13, 14, 15]])\n",
    "\n",
    "# Stack arrays vertically\n",
    "stacked_array = stack_arrays_vertically([array1, array2, array3])\n",
    "print(\"Vertically stacked array:\\n\", stacked_array)\n"
   ]
  },
  {
   "cell_type": "markdown",
   "id": "088a1ebd",
   "metadata": {},
   "source": [
    "# 21. Write a Python function using NumPy to create an array of integers within a specified range (inclusive) with a given step size."
   ]
  },
  {
   "cell_type": "code",
   "execution_count": 111,
   "id": "991079f3",
   "metadata": {},
   "outputs": [
    {
     "name": "stdout",
     "output_type": "stream",
     "text": [
      "Array of integers: [1 3 5 7 9]\n"
     ]
    }
   ],
   "source": [
    "import numpy as np\n",
    "\n",
    "def create_integer_array(start, stop, step):\n",
    "    \"\"\"\n",
    "    Create a NumPy array of integers within a specified range (inclusive) with a given step size.\n",
    "\n",
    "    Parameters:\n",
    "    - start: Starting value of the range (inclusive)\n",
    "    - stop: Ending value of the range (inclusive)\n",
    "    - step: Step size between each pair of consecutive values\n",
    "\n",
    "    Returns:\n",
    "    - NumPy array of integers within the specified range\n",
    "    \"\"\"\n",
    "    arr = np.arange(start, stop + 1, step, dtype=int)\n",
    "    return arr\n",
    "\n",
    "# Example usage:\n",
    "start = 1\n",
    "stop = 10\n",
    "step = 2\n",
    "\n",
    "array = create_integer_array(start, stop, step)\n",
    "print(\"Array of integers:\", array)\n"
   ]
  },
  {
   "cell_type": "markdown",
   "id": "f1018966",
   "metadata": {},
   "source": [
    "### 22. Write a Python function using NumPy to generate an array of 10 equally spaced values between 0 and 1 (inclusive)."
   ]
  },
  {
   "cell_type": "code",
   "execution_count": 113,
   "id": "3a69dcaa",
   "metadata": {},
   "outputs": [
    {
     "name": "stdout",
     "output_type": "stream",
     "text": [
      "[0.         0.11111111 0.22222222 0.33333333 0.44444444 0.55555556\n",
      " 0.66666667 0.77777778 0.88888889 1.        ]\n"
     ]
    }
   ],
   "source": [
    "def fun():\n",
    "    return np.linspace(0,1,10)\n",
    "\n",
    "array = fun()\n",
    "print(array)"
   ]
  },
  {
   "cell_type": "markdown",
   "id": "c5b8f7bf",
   "metadata": {},
   "source": [
    "### 23. Write a Python function using NumPy to create an array of 5 logarithmically spaced values between 1 and 1000 (inclusive)."
   ]
  },
  {
   "cell_type": "code",
   "execution_count": 115,
   "id": "3ab2a174",
   "metadata": {},
   "outputs": [
    {
     "name": "stdout",
     "output_type": "stream",
     "text": [
      "[  10.           31.6227766   100.          316.22776602 1000.        ]\n"
     ]
    }
   ],
   "source": [
    "def fun():\n",
    "    arr = np.logspace(1,3,5)\n",
    "    return arr\n",
    "\n",
    "array = fun()\n",
    "print(array)"
   ]
  },
  {
   "cell_type": "code",
   "execution_count": 116,
   "id": "b796567e",
   "metadata": {},
   "outputs": [
    {
     "name": "stdout",
     "output_type": "stream",
     "text": [
      "6\n"
     ]
    }
   ],
   "source": [
    "# def multiply(x,y=2):\n",
    "#     return x*y \n",
    "# result = multiply(3)\n",
    "# print(result)"
   ]
  },
  {
   "cell_type": "markdown",
   "id": "a1354206",
   "metadata": {},
   "source": [
    "### 24. Create a Pandas DataFrame using a NumPy array that contains 5 rows and 3 columns, where the values are random integers between 1 and 100."
   ]
  },
  {
   "cell_type": "code",
   "execution_count": 118,
   "id": "920ef82e",
   "metadata": {},
   "outputs": [
    {
     "name": "stdout",
     "output_type": "stream",
     "text": [
      "Pandas DataFrame with random integers between 1 and 100:\n",
      "    Column1  Column2  Column3\n",
      "0       19       68       23\n",
      "1        4       93       64\n",
      "2       19       40       91\n",
      "3        8       14       38\n",
      "4       82       49       41\n"
     ]
    }
   ],
   "source": [
    "import numpy as np\n",
    "import pandas as pd\n",
    "\n",
    "def create_random_dataframe():\n",
    "    \"\"\"\n",
    "    Create a Pandas DataFrame using a NumPy array that contains 5 rows and 3 columns,\n",
    "    with values being random integers between 1 and 100.\n",
    "\n",
    "    Returns:\n",
    "    - Pandas DataFrame with random integers between 1 and 100\n",
    "    \"\"\"\n",
    "    # Generate a NumPy array with random integers between 1 and 100\n",
    "    random_array = np.random.randint(1, 101, size=(5, 3))\n",
    "    \n",
    "    # Create a Pandas DataFrame from the NumPy array\n",
    "    df = pd.DataFrame(random_array, columns=['Column1', 'Column2', 'Column3'])\n",
    "    \n",
    "    return df\n",
    "\n",
    "# Example usage:\n",
    "dataframe = create_random_dataframe()\n",
    "print(\"Pandas DataFrame with random integers between 1 and 100:\\n\", dataframe)\n"
   ]
  },
  {
   "cell_type": "markdown",
   "id": "62317dd9",
   "metadata": {},
   "source": [
    "### 25. Write a function that takes a Pandas DataFrame and replaces all negative values in a specific column with zeros. Use NumPy operations within the Pandas DataFrame."
   ]
  },
  {
   "cell_type": "code",
   "execution_count": 119,
   "id": "570f28cb",
   "metadata": {},
   "outputs": [
    {
     "name": "stdout",
     "output_type": "stream",
     "text": [
      "Original DataFrame:\n",
      "    A  B\n",
      "0  1 -1\n",
      "1 -2  2\n",
      "2  3 -3\n",
      "3 -4  4\n",
      "4  5 -5\n",
      "\n",
      "DataFrame after replacing negative values in column 'A':\n",
      "    A  B\n",
      "0  1 -1\n",
      "1  0  2\n",
      "2  3 -3\n",
      "3  0  4\n",
      "4  5 -5\n"
     ]
    }
   ],
   "source": [
    "import pandas as pd\n",
    "import numpy as np\n",
    "\n",
    "def replace_negatives_with_zeros(df, column_name):\n",
    "    \"\"\"\n",
    "    Replace all negative values in a specific column of a Pandas DataFrame with zeros.\n",
    "\n",
    "    Parameters:\n",
    "    - df: Pandas DataFrame\n",
    "    - column_name: Name of the column to process\n",
    "\n",
    "    Returns:\n",
    "    - Pandas DataFrame with negative values replaced by zeros in the specified column\n",
    "    \"\"\"\n",
    "    # Ensure the specified column exists in the DataFrame\n",
    "    if column_name in df.columns:\n",
    "        # Use NumPy to replace negative values with zeros\n",
    "        df[column_name] = np.where(df[column_name] < 0, 0, df[column_name])\n",
    "    else:\n",
    "        print(f\"Column '{column_name}' does not exist in the DataFrame.\")\n",
    "    \n",
    "    return df\n",
    "\n",
    "# Example usage:\n",
    "data = {'A': [1, -2, 3, -4, 5], 'B': [-1, 2, -3, 4, -5]}\n",
    "df = pd.DataFrame(data)\n",
    "print(\"Original DataFrame:\\n\", df)\n",
    "\n",
    "# Replace negative values in column 'A'\n",
    "df = replace_negatives_with_zeros(df, 'A')\n",
    "print(\"\\nDataFrame after replacing negative values in column 'A':\\n\", df)\n"
   ]
  },
  {
   "cell_type": "markdown",
   "id": "b8b8ca3c",
   "metadata": {},
   "source": [
    "# 26. Access the 3rd element from the given NumPy array"
   ]
  },
  {
   "cell_type": "code",
   "execution_count": 120,
   "id": "4b83717b",
   "metadata": {},
   "outputs": [
    {
     "data": {
      "text/plain": [
       "30"
      ]
     },
     "execution_count": 120,
     "metadata": {},
     "output_type": "execute_result"
    }
   ],
   "source": [
    "arr = np.array([10, 20, 30, 40, 50])\n",
    "arr[2]"
   ]
  },
  {
   "cell_type": "markdown",
   "id": "b1b94cdf",
   "metadata": {},
   "source": [
    "# 27. Retrieve the element at index (1, 2) from the 2D NumPy array."
   ]
  },
  {
   "cell_type": "code",
   "execution_count": 123,
   "id": "6e58fd3c",
   "metadata": {},
   "outputs": [
    {
     "data": {
      "text/plain": [
       "6"
      ]
     },
     "execution_count": 123,
     "metadata": {},
     "output_type": "execute_result"
    }
   ],
   "source": [
    "arr = np.array([[1, 2, 3], [4, 5, 6] , [7, 8, 9]]) \n",
    "arr[1,2]"
   ]
  },
  {
   "cell_type": "markdown",
   "id": "e8cf20df",
   "metadata": {},
   "source": [
    "# 28. Using boolean indexing, extract elements greater than 5 from the given NumPy array."
   ]
  },
  {
   "cell_type": "code",
   "execution_count": 126,
   "id": "cfbb3314",
   "metadata": {},
   "outputs": [
    {
     "data": {
      "text/plain": [
       "array([False,  True, False,  True, False,  True])"
      ]
     },
     "execution_count": 126,
     "metadata": {},
     "output_type": "execute_result"
    }
   ],
   "source": [
    "arr = np.array([3, 8, 2, 10, 5, 7])\n",
    "arr > 5"
   ]
  },
  {
   "cell_type": "markdown",
   "id": "7a857c65",
   "metadata": {},
   "source": [
    "# 29. Perform basic slicing to extract elements from index 2 to 5 (inclusive) from the given NumPy array"
   ]
  },
  {
   "cell_type": "code",
   "execution_count": 128,
   "id": "91a1e81d",
   "metadata": {},
   "outputs": [
    {
     "name": "stdout",
     "output_type": "stream",
     "text": [
      "[3 4 5]\n"
     ]
    }
   ],
   "source": [
    "arr = np.array([1, 2, 3, 4, 5, 6, 7, 8, 9])\n",
    "print(arr[2:5])"
   ]
  },
  {
   "cell_type": "markdown",
   "id": "90bb6096",
   "metadata": {},
   "source": [
    "# 30. Slice the 2D NumPy array to extract the sub-array `[[2, 3], [5, 6]]` from the given array."
   ]
  },
  {
   "cell_type": "code",
   "execution_count": 138,
   "id": "cc2ee71a",
   "metadata": {},
   "outputs": [
    {
     "name": "stdout",
     "output_type": "stream",
     "text": [
      "[[2 3]\n",
      " [5 6]]\n"
     ]
    }
   ],
   "source": [
    "import numpy as np\n",
    "\n",
    "arr_2d = np.array([[1, 2, 3],\n",
    "                   [4, 5, 6],\n",
    "                   [7, 8, 9]])\n",
    "\n",
    "sub_array = arr_2d[:2, 1:]\n",
    "print(sub_array)\n"
   ]
  },
  {
   "cell_type": "markdown",
   "id": "67376114",
   "metadata": {},
   "source": [
    "# 31.Write a NumPy function to extract elements in specific order from a given       2D array based on indices provided in another array"
   ]
  },
  {
   "cell_type": "code",
   "execution_count": 145,
   "id": "ee3c3403",
   "metadata": {},
   "outputs": [
    {
     "name": "stdout",
     "output_type": "stream",
     "text": [
      "Extracted elements based on indices:\n",
      "[2 6]\n"
     ]
    }
   ],
   "source": [
    "import numpy as np\n",
    "\n",
    "def extract_elements(arr, indices):\n",
    "    \"\"\"\n",
    "    Extract elements from a 2D array `arr` based on indices provided in `indices`.\n",
    "    \n",
    "    Parameters:\n",
    "    arr (np.ndarray): Input 2D array from which elements will be extracted.\n",
    "    indices (np.ndarray): 2D array of indices specifying the elements to extract.\n",
    "    \n",
    "    Returns:\n",
    "    np.ndarray: Extracted elements from `arr` based on `indices`.\n",
    "    \"\"\"\n",
    "    rows = indices[:, 0]\n",
    "    cols = indices[:, 1]\n",
    "    extracted_elements = arr[rows, cols]\n",
    "    return extracted_elements\n",
    "\n",
    "arr_2d = np.array([[1, 2, 3],\n",
    "                   [4, 5, 6],\n",
    "                   [7, 8, 9]])\n",
    "\n",
    "indices = np.array([[0, 1],\n",
    "                    [1, 2]])\n",
    "\n",
    "result = extract_elements(arr_2d, indices)\n",
    "print(\"Extracted elements based on indices:\")\n",
    "print(result)\n"
   ]
  },
  {
   "cell_type": "markdown",
   "id": "407dc3ac",
   "metadata": {},
   "source": [
    "# 32. Create a NumPy function that filters elements greater than a threshold from a given 1D array using boolean indexing."
   ]
  },
  {
   "cell_type": "code",
   "execution_count": 146,
   "id": "36d8800f",
   "metadata": {},
   "outputs": [
    {
     "name": "stdout",
     "output_type": "stream",
     "text": [
      "Filtered elements greater than 5 :\n",
      "[ 8 10  7]\n"
     ]
    }
   ],
   "source": [
    "import numpy as np\n",
    "\n",
    "def filter_greater_than(arr, threshold):\n",
    "    \"\"\"\n",
    "    Filter elements greater than a threshold from a given 1D array using boolean indexing.\n",
    "    \n",
    "    Parameters:\n",
    "    arr (np.ndarray): Input 1D NumPy array to filter.\n",
    "    threshold (float or int): Threshold value for comparison.\n",
    "    \n",
    "    Returns:\n",
    "    np.ndarray: Filtered array containing elements greater than the threshold.\n",
    "    \"\"\"\n",
    "    filtered_array = arr[arr > threshold]\n",
    "    return filtered_array\n",
    "\n",
    "arr = np.array([1, 5, 3, 8, 2, 10, 7])\n",
    "threshold = 5\n",
    "\n",
    "filtered_result = filter_greater_than(arr, threshold)\n",
    "print(\"Filtered elements greater than\", threshold, \":\")\n",
    "print(filtered_result)\n"
   ]
  },
  {
   "cell_type": "markdown",
   "id": "dd97fced",
   "metadata": {},
   "source": [
    "# 33. Develop a NumPy function that extracts specific elements from a 3D array using indices provided in three separate arrays for each dimension."
   ]
  },
  {
   "cell_type": "code",
   "execution_count": 147,
   "id": "cda837f2",
   "metadata": {},
   "outputs": [
    {
     "name": "stdout",
     "output_type": "stream",
     "text": [
      "Extracted elements from 3D array:\n",
      "[ 2 12]\n"
     ]
    }
   ],
   "source": [
    "import numpy as np\n",
    "\n",
    "def extract_elements_3d(arr, indices_dim1, indices_dim2, indices_dim3):\n",
    "    \"\"\"\n",
    "    Extract specific elements from a 3D array `arr` using indices provided in three separate arrays\n",
    "    corresponding to each dimension.\n",
    "    \n",
    "    Parameters:\n",
    "    arr (np.ndarray): Input 3D NumPy array from which elements will be extracted.\n",
    "    indices_dim1 (np.ndarray): 1D array of indices for the first dimension.\n",
    "    indices_dim2 (np.ndarray): 1D array of indices for the second dimension.\n",
    "    indices_dim3 (np.ndarray): 1D array of indices for the third dimension.\n",
    "    \n",
    "    Returns:\n",
    "    np.ndarray: Extracted elements from `arr` based on provided indices.\n",
    "    \"\"\"\n",
    "    extracted_elements = arr[indices_dim1, indices_dim2, indices_dim3]\n",
    "    return extracted_elements\n",
    "\n",
    "arr_3d = np.array([\n",
    "    [[1, 2, 3], [4, 5, 6]],\n",
    "    [[7, 8, 9], [10, 11, 12]]\n",
    "])\n",
    "\n",
    "indices_dim1 = np.array([0, 1])\n",
    "indices_dim2 = np.array([0, 1])\n",
    "indices_dim3 = np.array([1, 2])\n",
    "\n",
    "result = extract_elements_3d(arr_3d, indices_dim1, indices_dim2, indices_dim3)\n",
    "print(\"Extracted elements from 3D array:\")\n",
    "print(result)\n"
   ]
  },
  {
   "cell_type": "markdown",
   "id": "bcaa7bde",
   "metadata": {},
   "source": [
    "# 34. Write a NumPy function that returns elements from an array where both two conditions are satisfied using boolean indexing."
   ]
  },
  {
   "cell_type": "code",
   "execution_count": 148,
   "id": "d2f48f64",
   "metadata": {},
   "outputs": [
    {
     "name": "stdout",
     "output_type": "stream",
     "text": [
      "Filtered elements where both conditions are satisfied:\n",
      "[ 8 10]\n"
     ]
    }
   ],
   "source": [
    "import numpy as np\n",
    "\n",
    "def filter_with_conditions(arr, condition1, condition2):\n",
    "    \"\"\"\n",
    "    Return elements from an array `arr` where both conditions are satisfied using boolean indexing.\n",
    "    \n",
    "    Parameters:\n",
    "    arr (np.ndarray): Input NumPy array to filter.\n",
    "    condition1 (np.ndarray): Boolean array for the first condition.\n",
    "    condition2 (np.ndarray): Boolean array for the second condition.\n",
    "    \n",
    "    Returns:\n",
    "    np.ndarray: Filtered array containing elements satisfying both conditions.\n",
    "    \"\"\"\n",
    "    filtered_array = arr[(condition1) & (condition2)]\n",
    "    return filtered_array\n",
    "\n",
    "arr = np.array([1, 5, 3, 8, 2, 10, 7])\n",
    "condition1 = arr > 3\n",
    "condition2 = arr % 2 == 0\n",
    "\n",
    "filtered_result = filter_with_conditions(arr, condition1, condition2)\n",
    "print(\"Filtered elements where both conditions are satisfied:\")\n",
    "print(filtered_result)\n"
   ]
  },
  {
   "cell_type": "markdown",
   "id": "8ed1bf94",
   "metadata": {},
   "source": [
    "# 35. Create a NumPy function that extracts elements from a 2D array using row and column indices provided in separate arrays"
   ]
  },
  {
   "cell_type": "code",
   "execution_count": 150,
   "id": "6d58a5ba",
   "metadata": {},
   "outputs": [
    {
     "name": "stdout",
     "output_type": "stream",
     "text": [
      "Extracted elements from 2D array:\n",
      "[2 6 8]\n"
     ]
    }
   ],
   "source": [
    "import numpy as np\n",
    "\n",
    "def extract_elements_2d(arr, row_indices, col_indices):\n",
    "    \"\"\"\n",
    "    Extract elements from a 2D array `arr` using row and column indices provided in separate arrays.\n",
    "    \n",
    "    Parameters:\n",
    "    arr (np.ndarray): Input 2D NumPy array from which elements will be extracted.\n",
    "    row_indices (np.ndarray): 1D array of row indices.\n",
    "    col_indices (np.ndarray): 1D array of column indices.\n",
    "    \n",
    "    Returns:\n",
    "    np.ndarray: Extracted elements from `arr` based on provided row and column indices.\n",
    "    \"\"\"\n",
    "    extracted_elements = arr[row_indices, col_indices]\n",
    "    return extracted_elements\n",
    "\n",
    "arr_2d = np.array([[1, 2, 3],\n",
    "                   [4, 5, 6],\n",
    "                   [7, 8, 9]])\n",
    "\n",
    "row_indices = np.array([0, 1, 2])\n",
    "col_indices = np.array([1, 2, 1])\n",
    "\n",
    "result = extract_elements_2d(arr_2d, row_indices, col_indices)\n",
    "print(\"Extracted elements from 2D array:\")\n",
    "print(result)\n"
   ]
  },
  {
   "cell_type": "markdown",
   "id": "2e0e76aa",
   "metadata": {},
   "source": [
    "# 36. Given an array arr of shape (3, 3), add a scalar value of 5 to each element using NumPy broadcasting."
   ]
  },
  {
   "cell_type": "code",
   "execution_count": 157,
   "id": "c16bb5ab",
   "metadata": {},
   "outputs": [
    {
     "name": "stdout",
     "output_type": "stream",
     "text": [
      "original array is \n",
      "[[1 2 3]\n",
      " [2 3 4]\n",
      " [4 5 6]]\n",
      "now new array is \n",
      "[[ 6  7  8]\n",
      " [ 7  8  9]\n",
      " [ 9 10 11]]\n"
     ]
    }
   ],
   "source": [
    "arr = np.array([[1,2,3],[2,3,4],[4,5,6]])\n",
    "print(\"original array is \") \n",
    "print(arr)\n",
    "result = arr+5\n",
    "print(\"now new array is \" )\n",
    "print(result)"
   ]
  },
  {
   "cell_type": "markdown",
   "id": "bb6e7ec8",
   "metadata": {},
   "source": [
    "# 37. Consider two arrays arr1 of shape (1, 3) and arr2 of shape (3, 4). Multiply each row of arr2 by the corresponding element in arr1 using NumPy broadcasting."
   ]
  },
  {
   "cell_type": "code",
   "execution_count": 172,
   "id": "464fbb96",
   "metadata": {},
   "outputs": [
    {
     "name": "stdout",
     "output_type": "stream",
     "text": [
      "arr1 shape: (1, 3)\n",
      "arr2 shape: (3, 4)\n",
      "Result of element-wise multiplication:\n",
      "[[ 3  4  4  4]\n",
      " [ 4  6  8 10]\n",
      " [15 18 21 27]]\n"
     ]
    }
   ],
   "source": [
    "arr1 = np.array([[1,2,3]])\n",
    "arr2 = np.array([[3,4,4,4],[2,3,4,5],[5,6,7,9]]) \n",
    "# print(arr1.shape)\n",
    "# print(arr2.shape)\n",
    "# result = arr1 * arr2 \n",
    "# print(result)\n",
    "\n",
    "arr1_transposed = arr1.T  \n",
    "\n",
    "result = arr2 * arr1_transposed\n",
    "\n",
    "print(\"arr1 shape:\", arr1.shape)\n",
    "print(\"arr2 shape:\", arr2.shape)\n",
    "print(\"Result of element-wise multiplication:\")\n",
    "print(result)"
   ]
  },
  {
   "cell_type": "markdown",
   "id": "51048e00",
   "metadata": {},
   "source": [
    "# 38. Given a 1D array arr1 of shape (1, 4) and a 2D array arr2 of shape (4, 3), add arr1 to each row of arr2 using NumPy broadcasting."
   ]
  },
  {
   "cell_type": "code",
   "execution_count": 176,
   "id": "8ec56391",
   "metadata": {},
   "outputs": [
    {
     "name": "stdout",
     "output_type": "stream",
     "text": [
      "[[3 5 5 5]\n",
      " [3 5 6 6]\n",
      " [4 5 7 7]]\n",
      "(4,)\n",
      "(4, 3)\n"
     ]
    }
   ],
   "source": [
    "arr = np.array([1,2,4,3])\n",
    "arr1 = np.array([[2,2,3],[3,3,3],[1,2,3],[2,3,4]])\n",
    "array1 = arr1.T\n",
    "print(arr+array1)\n",
    "print(arr.shape)\n",
    "print(arr1.shape)"
   ]
  },
  {
   "cell_type": "markdown",
   "id": "a8781ca3",
   "metadata": {},
   "source": [
    "# 39. Consider two arrays arr1 of shape (3, 1) and arr2 of shape (1, 3). Add these arrays using NumPy broadcasting."
   ]
  },
  {
   "cell_type": "code",
   "execution_count": 182,
   "id": "94d17cde",
   "metadata": {},
   "outputs": [
    {
     "name": "stdout",
     "output_type": "stream",
     "text": [
      "(3, 1)\n",
      "(1, 3)\n",
      "[[3 4 5]]\n"
     ]
    }
   ],
   "source": [
    "arr = np.array([[2],[2],[2]]) \n",
    "arr1 = np.array([[1,2,3]])\n",
    "\n",
    "print(arr.shape)\n",
    "print(arr1.shape)\n",
    "print(arr.T + arr1)"
   ]
  },
  {
   "cell_type": "markdown",
   "id": "56deb102",
   "metadata": {},
   "source": [
    "# 40. Given arrays arr1 of shape (2, 3) and arr2 of shape (2, 2), perform multiplication using NumPy broadcasting. Handle the shape incompatibility."
   ]
  },
  {
   "cell_type": "code",
   "execution_count": 190,
   "id": "7394c965",
   "metadata": {},
   "outputs": [
    {
     "name": "stdout",
     "output_type": "stream",
     "text": [
      "arr1 shape: (2, 3)\n",
      "arr2 shape after reshaping: (2, 2, 1)\n",
      "Result of multiplication using broadcasting:\n",
      "[[[4 6 8]\n",
      "  [4 6 8]]\n",
      "\n",
      " [[4 6 8]\n",
      "  [4 6 8]]]\n"
     ]
    }
   ],
   "source": [
    "import numpy as np\n",
    "\n",
    "arr1 = np.array([[2, 3, 4],\n",
    "                 [2, 3, 4]])  # Shape (2, 3)\n",
    "arr2 = np.array([[2, 2],\n",
    "                 [2, 2]])  # Shape (2, 2)\n",
    "\n",
    "# Reshape arr2 to match dimensions with arr1 for broadcasting\n",
    "arr2_reshaped = arr2.reshape(2, 2, 1)  # Shape (2, 2, 1)\n",
    "\n",
    "# Perform multiplication using broadcasting\n",
    "result = arr1 * arr2_reshaped\n",
    "\n",
    "print(\"arr1 shape:\", arr1.shape)\n",
    "print(\"arr2 shape after reshaping:\", arr2_reshaped.shape)\n",
    "print(\"Result of multiplication using broadcasting:\")\n",
    "print(result)\n"
   ]
  },
  {
   "cell_type": "markdown",
   "id": "0eadce89",
   "metadata": {},
   "source": [
    "# 41. Calculate column wise mean for the given array:"
   ]
  },
  {
   "cell_type": "code",
   "execution_count": 192,
   "id": "6bec4358",
   "metadata": {},
   "outputs": [
    {
     "name": "stdout",
     "output_type": "stream",
     "text": [
      "[2.5 3.5 4.5]\n"
     ]
    }
   ],
   "source": [
    "arr = np.array([[1, 2, 3], [4, 5, 6]])\n",
    "column_wise_mean = np.mean(arr,axis=0)\n",
    "print(column_wise_mean)"
   ]
  },
  {
   "cell_type": "markdown",
   "id": "e5ae2040",
   "metadata": {},
   "source": [
    "# 42. Find maximum value in each row of the given array:"
   ]
  },
  {
   "cell_type": "code",
   "execution_count": 193,
   "id": "0512e3ee",
   "metadata": {},
   "outputs": [
    {
     "name": "stdout",
     "output_type": "stream",
     "text": [
      "[3 6]\n"
     ]
    }
   ],
   "source": [
    "arr = np.array([[1, 2, 3], [4, 5, 6]])\n",
    "max_value = np.max(arr,axis=1)\n",
    "print(max_value)"
   ]
  },
  {
   "cell_type": "markdown",
   "id": "74dc5891",
   "metadata": {},
   "source": [
    "# 43. For the given array, find indices of maximum value in each column."
   ]
  },
  {
   "cell_type": "code",
   "execution_count": 197,
   "id": "58a1b0a4",
   "metadata": {},
   "outputs": [
    {
     "name": "stdout",
     "output_type": "stream",
     "text": [
      "Original array:\n",
      "[[1 2 3]\n",
      " [4 5 6]]\n",
      "\n",
      "Indices of maximum value in each column:\n",
      "[1 1 1]\n"
     ]
    }
   ],
   "source": [
    "import numpy as np\n",
    "\n",
    "arr = np.array([[1, 2, 3], [4, 5, 6]])\n",
    "# Find indices of maximum value in each column\n",
    "max_indices = np.argmax(arr, axis=0)\n",
    "\n",
    "print(\"Original array:\")\n",
    "print(arr)\n",
    "print(\"\\nIndices of maximum value in each column:\")\n",
    "print(max_indices)\n"
   ]
  },
  {
   "cell_type": "markdown",
   "id": "60b783c4",
   "metadata": {},
   "source": [
    "# 44. For the given array, apply custom function to calculate moving sum along rows."
   ]
  },
  {
   "cell_type": "code",
   "execution_count": 2,
   "id": "3b431553",
   "metadata": {},
   "outputs": [],
   "source": [
    "import numpy as np "
   ]
  },
  {
   "cell_type": "code",
   "execution_count": 5,
   "id": "df0f0514",
   "metadata": {},
   "outputs": [
    {
     "name": "stdout",
     "output_type": "stream",
     "text": [
      "[1 2 3 4 5 6]\n"
     ]
    }
   ],
   "source": [
    "# arr = np.array([[1, 2, 3], [4, 5, 6]])\n",
    "# arr1 = np.concatenate(arr,axis=0)\n",
    "# print(arr1)"
   ]
  },
  {
   "cell_type": "code",
   "execution_count": 7,
   "id": "4b546048",
   "metadata": {},
   "outputs": [
    {
     "name": "stdout",
     "output_type": "stream",
     "text": [
      "[[ 1  3  6]\n",
      " [ 4  9 15]]\n"
     ]
    }
   ],
   "source": [
    "# arr = np.array([[1, 2, 3], [4, 5, 6]])\n",
    "# arr1 = np.cumsum(arr,axis=1)\n",
    "# print(arr1)"
   ]
  },
  {
   "cell_type": "code",
   "execution_count": 8,
   "id": "eb631e54",
   "metadata": {},
   "outputs": [
    {
     "name": "stdout",
     "output_type": "stream",
     "text": [
      "Concatenated array: [1 2 3 4 5 6]\n",
      "Moving sum: [ 1  3  6 10 15 21]\n"
     ]
    }
   ],
   "source": [
    "import numpy as np\n",
    "\n",
    "arr = np.array([[1, 2, 3], [4, 5, 6]])\n",
    "arr1 = arr.flatten()\n",
    "print(\"Concatenated array:\", arr1)\n",
    "\n",
    "moving_sum = np.cumsum(arr1)\n",
    "print(\"Moving sum:\", moving_sum)\n"
   ]
  },
  {
   "cell_type": "code",
   "execution_count": 11,
   "id": "8ab46c93",
   "metadata": {},
   "outputs": [
    {
     "name": "stdout",
     "output_type": "stream",
     "text": [
      "[1 2 3 4 5 6]\n",
      "[ 1  3  6 10 15 21]\n"
     ]
    }
   ],
   "source": [
    "arr = np.array([[1, 2, 3], [4, 5, 6]])\n",
    "arr1 =arr.flatten()\n",
    "arr2 = np.cumsum(arr1,axis=0)\n",
    "print(arr1)\n",
    "print(arr2)"
   ]
  },
  {
   "cell_type": "markdown",
   "id": "273265f5",
   "metadata": {},
   "source": [
    "# 45. In the given array, check if all elements in each column are even."
   ]
  },
  {
   "cell_type": "code",
   "execution_count": 14,
   "id": "5c4eab59",
   "metadata": {},
   "outputs": [],
   "source": [
    "arr = np.array([[2, 4, 6],\n",
    "                [3, 5, 7]])\n",
    "arr1 = np.all(arr%2 == 0 , axis=0)   "
   ]
  },
  {
   "cell_type": "code",
   "execution_count": 15,
   "id": "3f22ddf4",
   "metadata": {},
   "outputs": [
    {
     "name": "stdout",
     "output_type": "stream",
     "text": [
      "[False False False]\n"
     ]
    }
   ],
   "source": [
    "print(arr1)"
   ]
  },
  {
   "cell_type": "code",
   "execution_count": 16,
   "id": "4ece5de3",
   "metadata": {},
   "outputs": [],
   "source": [
    "# when we are dealing with 2d array : axis = 0 > column and axis = 1 > rows "
   ]
  },
  {
   "cell_type": "markdown",
   "id": "bf1da854",
   "metadata": {},
   "source": [
    "# 46. Given a NumPy array arr, reshape it into a matrix of dimensions `m` rows and `n` columns. Return the reshaped matrix"
   ]
  },
  {
   "cell_type": "code",
   "execution_count": 19,
   "id": "e6ea3f76",
   "metadata": {},
   "outputs": [
    {
     "data": {
      "text/plain": [
       "array([[1],\n",
       "       [2],\n",
       "       [3],\n",
       "       [4],\n",
       "       [5],\n",
       "       [6]])"
      ]
     },
     "execution_count": 19,
     "metadata": {},
     "output_type": "execute_result"
    }
   ],
   "source": [
    "original_array = np.array([1, 2, 3, 4, 5, 6])\n",
    "original_array.reshape(6,1)"
   ]
  },
  {
   "cell_type": "markdown",
   "id": "92a4b26c",
   "metadata": {},
   "source": [
    "# 47. Create a function that takes a matrix as input and returns the flattened array"
   ]
  },
  {
   "cell_type": "code",
   "execution_count": 24,
   "id": "7b8d2963",
   "metadata": {},
   "outputs": [
    {
     "name": "stdout",
     "output_type": "stream",
     "text": [
      "[1 2 3 4 5 6]\n"
     ]
    }
   ],
   "source": [
    "def function(input_matrix):\n",
    "    return  input_matrix.flatten()\n",
    "input_matrix = np.array([[1, 2, 3], [4, 5, 6]])\n",
    "print(function(input_matrix))"
   ]
  },
  {
   "cell_type": "markdown",
   "id": "0c6112c1",
   "metadata": {},
   "source": [
    "# 48. Write a function that concatenates two given arrays along a specified axis."
   ]
  },
  {
   "cell_type": "code",
   "execution_count": 26,
   "id": "1cf86641",
   "metadata": {},
   "outputs": [
    {
     "name": "stdout",
     "output_type": "stream",
     "text": [
      "[[1 2 5 6]\n",
      " [3 4 7 8]]\n"
     ]
    }
   ],
   "source": [
    "array1 = np.array([[1, 2], \n",
    "                   [3, 4]])\n",
    "array2 = np.array([[5, 6],\n",
    "                   [7, 8]])\n",
    "\n",
    "array3 = np.concatenate((array1,array2),axis=1)\n",
    "print(array3)"
   ]
  },
  {
   "cell_type": "markdown",
   "id": "d74ac067",
   "metadata": {},
   "source": [
    "# 49. Create a function that splits an array into multiple sub-arrays along a specified axis."
   ]
  },
  {
   "cell_type": "code",
   "execution_count": 32,
   "id": "67667cd2",
   "metadata": {},
   "outputs": [
    {
     "name": "stdout",
     "output_type": "stream",
     "text": [
      "[array([[1, 2, 3]]), array([[4, 5, 6]]), array([[7, 8, 9]])]\n"
     ]
    }
   ],
   "source": [
    "def function(arr):\n",
    "    \n",
    "    return arr \n",
    "\n",
    "original_array = np.array([[1, 2, 3], [4, 5, 6], [7, 8, 9]])\n",
    "\n",
    "arr = np.array_split(original_array,3)\n",
    "print(function(arr))"
   ]
  },
  {
   "cell_type": "markdown",
   "id": "01ea6f11",
   "metadata": {},
   "source": [
    "# 50. Write a function that inserts and then deletes elements from a given array at specified indices."
   ]
  },
  {
   "cell_type": "code",
   "execution_count": 33,
   "id": "bbcbd6b6",
   "metadata": {},
   "outputs": [
    {
     "name": "stdout",
     "output_type": "stream",
     "text": [
      "[ 1 10  4 11  5]\n"
     ]
    }
   ],
   "source": [
    "def modify_array(original_array, indices_to_insert, values_to_insert, indices_to_delete):\n",
    "    # Insert elements at specified indices\n",
    "    modified_array = np.insert(original_array, indices_to_insert, values_to_insert)\n",
    "    \n",
    "    # Delete elements at specified indices\n",
    "    modified_array = np.delete(modified_array, indices_to_delete)\n",
    "    \n",
    "    return modified_array\n",
    "\n",
    "original_array = np.array([1, 2, 3, 4, 5])\n",
    "indices_to_insert = [2, 4]\n",
    "values_to_insert = [10, 11]\n",
    "indices_to_delete = [1, 3]\n",
    "\n",
    "result = modify_array(original_array, indices_to_insert, values_to_insert, indices_to_delete)\n",
    "print(result)\n"
   ]
  },
  {
   "cell_type": "markdown",
   "id": "96614341",
   "metadata": {},
   "source": [
    "# 51. Create a NumPy array `arr1` with random integers and another array `arr2` with integers from 1 to 10. Perform element-wise addition between `arr1` and `arr2`."
   ]
  },
  {
   "cell_type": "code",
   "execution_count": 39,
   "id": "2aeb6f23",
   "metadata": {},
   "outputs": [
    {
     "name": "stdout",
     "output_type": "stream",
     "text": [
      "[[2 4 6]\n",
      " [2 4 6]\n",
      " [2 4 6]]\n"
     ]
    }
   ],
   "source": [
    "arr1 = np.array([[1,2,3],\n",
    "                [1,2,3],\n",
    "                [1,2,3]])\n",
    "arr2 = np.array([[1,2,3],\n",
    "                [1,2,3],\n",
    "                [1,2,3]])\n",
    "\n",
    "arr3 = arr1 + arr2\n",
    "print(arr3)"
   ]
  },
  {
   "cell_type": "markdown",
   "id": "008a94df",
   "metadata": {},
   "source": [
    "# 52. Generate a NumPy array `arr1` with sequential integers from 10 to 1 and another array `arr2` with integers from 1 to 10. Subtract `arr2` from `arr1` element-wise."
   ]
  },
  {
   "cell_type": "code",
   "execution_count": 40,
   "id": "ca613e2d",
   "metadata": {},
   "outputs": [
    {
     "name": "stdout",
     "output_type": "stream",
     "text": [
      "arr1: [10  9  8  7  6  5  4  3  2  1]\n",
      "arr2: [ 1  2  3  4  5  6  7  8  9 10]\n",
      "Result of arr1 - arr2: [ 9  7  5  3  1 -1 -3 -5 -7 -9]\n"
     ]
    }
   ],
   "source": [
    "import numpy as np\n",
    "\n",
    "# Generate arr1 with sequential integers from 10 to 1\n",
    "arr1 = np.arange(10, 0, -1)\n",
    "\n",
    "# Generate arr2 with integers from 1 to 10\n",
    "arr2 = np.arange(1, 11)\n",
    "\n",
    "# Subtract arr2 from arr1 element-wise\n",
    "result = arr1 - arr2\n",
    "\n",
    "print(\"arr1:\", arr1)\n",
    "print(\"arr2:\", arr2)\n",
    "print(\"Result of arr1 - arr2:\", result)\n"
   ]
  },
  {
   "cell_type": "markdown",
   "id": "195727cd",
   "metadata": {},
   "source": [
    "# 53. Create a NumPy array `arr1` with random integers and another array `arr2` with integers from 1 to 5. Perform element-wise multiplication between `arr1` and `arr2`."
   ]
  },
  {
   "cell_type": "code",
   "execution_count": 42,
   "id": "b33528c1",
   "metadata": {},
   "outputs": [
    {
     "name": "stdout",
     "output_type": "stream",
     "text": [
      "arr1: [7 3 4 9 3]\n",
      "arr2: [1 2 3 4 5]\n",
      "Element-wise multiplication result: [ 7  6 12 36 15]\n"
     ]
    }
   ],
   "source": [
    "import numpy as np\n",
    "\n",
    "# Generate arr1 with random integers\n",
    "arr1 = np.random.randint(1, 10, size=(5,))  # Example: random integers from 1 to 10, shape (5,)\n",
    "\n",
    "# Generate arr2 with integers from 1 to 5\n",
    "arr2 = np.arange(1, 6)\n",
    "\n",
    "# Perform element-wise multiplication between arr1 and arr2\n",
    "result = arr1 * arr2\n",
    "\n",
    "print(\"arr1:\", arr1)\n",
    "print(\"arr2:\", arr2)\n",
    "print(\"Element-wise multiplication result:\", result)\n"
   ]
  },
  {
   "cell_type": "markdown",
   "id": "26920954",
   "metadata": {},
   "source": [
    "# 54. Generate a NumPy array `arr1` with even integers from 2 to 10 and another array `arr2` with integers from 1 to 5. Perform element-wise division of `arr1` by `arr2`."
   ]
  },
  {
   "cell_type": "code",
   "execution_count": 48,
   "id": "50d5d0c6",
   "metadata": {},
   "outputs": [
    {
     "name": "stdout",
     "output_type": "stream",
     "text": [
      "[ 2  4  6  8 10]\n",
      "[1 2 3 4 5]\n",
      "element wise divison of arr1 and arr2 :  [2. 2. 2. 2. 2.]\n"
     ]
    }
   ],
   "source": [
    "arr1 = np.arange(2,11,2)\n",
    "print(arr1)\n",
    "arr2 = np.arange(1,6)\n",
    "print(arr2)\n",
    "arr3 = arr1/arr2\n",
    "print(\"element wise divison of arr1 and arr2 : \", arr3)"
   ]
  },
  {
   "cell_type": "markdown",
   "id": "d0ebed2b",
   "metadata": {},
   "source": [
    "and if i want the output in integer so you  will use \"//\" this make the round of any float value to integer"
   ]
  },
  {
   "cell_type": "code",
   "execution_count": 49,
   "id": "571405cf",
   "metadata": {},
   "outputs": [
    {
     "name": "stdout",
     "output_type": "stream",
     "text": [
      "[ 2  4  6  8 10]\n",
      "[1 2 3 4 5]\n",
      "element wise divison of arr1 and arr2 :  [2 2 2 2 2]\n"
     ]
    }
   ],
   "source": [
    "arr1 = np.arange(2,11,2)\n",
    "print(arr1)\n",
    "arr2 = np.arange(1,6)\n",
    "print(arr2)\n",
    "arr3 = arr1//arr2\n",
    "print(\"element wise divison of arr1 and arr2 : \", arr3)"
   ]
  },
  {
   "cell_type": "markdown",
   "id": "354e8f57",
   "metadata": {},
   "source": [
    "# 55. Create a NumPy array `arr1` with integers from 1 to 5 and another array `arr2` with the same numbers reversed. Calculate the exponentiation of `arr1` raised to the power of `arr2` element-wise."
   ]
  },
  {
   "cell_type": "code",
   "execution_count": 57,
   "id": "e1c820f1",
   "metadata": {},
   "outputs": [
    {
     "name": "stdout",
     "output_type": "stream",
     "text": [
      "[1 2 3 4 5]\n",
      "[5 4 3 2 1]\n",
      "[ 1 16 27 16  5]\n"
     ]
    }
   ],
   "source": [
    "arr1 = np.arange(1,6)\n",
    "arr2 = np.arange(5,0,-1)\n",
    "print(arr1)\n",
    "print(arr2)\n",
    "arr3 = (arr1**arr2)\n",
    "print(arr3)"
   ]
  },
  {
   "cell_type": "markdown",
   "id": "37580037",
   "metadata": {},
   "source": [
    "# 56. Write a function that counts the occurrences of a specific substring within a NumPy array of strings."
   ]
  },
  {
   "cell_type": "code",
   "execution_count": 58,
   "id": "6e81a9f2",
   "metadata": {},
   "outputs": [
    {
     "name": "stdout",
     "output_type": "stream",
     "text": [
      "Occurrences of 'hello' in the array: 3\n"
     ]
    }
   ],
   "source": [
    "import numpy as np\n",
    "\n",
    "def count_substring_occurrences(arr, substring):\n",
    "    count = 0\n",
    "    for string in arr:\n",
    "        count += string.count(substring)\n",
    "    return count\n",
    "\n",
    "# Example usage:\n",
    "arr = np.array(['hello', 'world', 'hello', 'numpy', 'hello'])\n",
    "substring = 'hello'\n",
    "result = count_substring_occurrences(arr, substring)\n",
    "print(f\"Occurrences of '{substring}' in the array: {result}\")\n",
    "\n"
   ]
  },
  {
   "cell_type": "markdown",
   "id": "5b055fb8",
   "metadata": {},
   "source": [
    "# 57. Write a function that extracts uppercase characters from a NumPy array of strings.\n"
   ]
  },
  {
   "cell_type": "code",
   "execution_count": 59,
   "id": "c4b3e0d4",
   "metadata": {},
   "outputs": [
    {
     "name": "stdout",
     "output_type": "stream",
     "text": [
      "Uppercase characters: ['H', 'W', 'O', 'A', 'I', 'G', 'P', 'T']\n"
     ]
    }
   ],
   "source": [
    "def extract_uppercase_chars(arr):\n",
    "    uppercase_chars = []\n",
    "    for string in arr:\n",
    "        for char in string:\n",
    "            if char.isupper():\n",
    "                uppercase_chars.append(char)\n",
    "    return uppercase_chars\n",
    "\n",
    "# Example usage:\n",
    "arr = np.array(['Hello', 'World', 'OpenAI', 'GPT'])\n",
    "result = extract_uppercase_chars(arr)\n",
    "print(\"Uppercase characters:\", result)\n"
   ]
  },
  {
   "cell_type": "markdown",
   "id": "241a9e3c",
   "metadata": {},
   "source": [
    "# 58. Write a function that replaces occurrences of a substring in a NumPy array of strings with a new string."
   ]
  },
  {
   "cell_type": "code",
   "execution_count": 60,
   "id": "d9824844",
   "metadata": {},
   "outputs": [
    {
     "name": "stdout",
     "output_type": "stream",
     "text": [
      "Modified array: ['orange' 'banana' 'grape' 'pineorange']\n"
     ]
    }
   ],
   "source": [
    "import numpy as np\n",
    "\n",
    "def replace_substring(arr, old_substring, new_substring):\n",
    "    return np.char.replace(arr, old_substring, new_substring)\n",
    "\n",
    "arr = np.array(['apple', 'banana', 'grape', 'pineapple'])\n",
    "new_arr = replace_substring(arr, 'apple', 'orange')\n",
    "print(\"Modified array:\", new_arr)\n"
   ]
  },
  {
   "cell_type": "markdown",
   "id": "68af8565",
   "metadata": {},
   "source": [
    "# 59. Write a function that concatenates strings in a NumPy array element-wise."
   ]
  },
  {
   "cell_type": "code",
   "execution_count": 69,
   "id": "e53c1beb",
   "metadata": {},
   "outputs": [
    {
     "name": "stdout",
     "output_type": "stream",
     "text": [
      "['HelloOpen' 'WorldAI']\n"
     ]
    }
   ],
   "source": [
    "def function(arr1,arr2):\n",
    "    arr3=np.char.add(arr1,arr2)\n",
    "    return arr3\n",
    "arr1 = np.array(['Hello', 'World'])\n",
    "arr2 = np.array(['Open', 'AI'])\n",
    "print(function(arr1,arr2))\n"
   ]
  },
  {
   "cell_type": "markdown",
   "id": "b4df2800",
   "metadata": {},
   "source": [
    "# 60. Write a function that finds the length of the longest string in a NumPy array.\n",
    "\n"
   ]
  },
  {
   "cell_type": "code",
   "execution_count": 70,
   "id": "e176ec73",
   "metadata": {},
   "outputs": [
    {
     "name": "stdout",
     "output_type": "stream",
     "text": [
      "Length of the longest string: 9\n"
     ]
    }
   ],
   "source": [
    "import numpy as np\n",
    "\n",
    "def longest_string_length(arr):\n",
    "    # Vectorize the len function to apply it element-wise to the array\n",
    "    v_len = np.vectorize(len)\n",
    "    \n",
    "    # Apply the len function to each element in the array and find the maximum length\n",
    "    max_length = np.max(v_len(arr))\n",
    "    \n",
    "    return max_length\n",
    "\n",
    "# Example usage:\n",
    "arr = np.array(['apple', 'banana', 'grape', 'pineapple'])\n",
    "print(\"Length of the longest string:\", longest_string_length(arr))\n"
   ]
  },
  {
   "cell_type": "markdown",
   "id": "9cae9a04",
   "metadata": {},
   "source": [
    "# 61. Create a dataset of 100 random integers between 1 and 1000. Compute the mean, median, variance, and standard deviation of the dataset using NumPy's functions."
   ]
  },
  {
   "cell_type": "code",
   "execution_count": 13,
   "id": "c1f72f07",
   "metadata": {},
   "outputs": [
    {
     "name": "stdout",
     "output_type": "stream",
     "text": [
      "[961 444  91 297 491 995 544 126 848 313 687 397 154 692 925  79 900 138\n",
      " 640 814 243 864 554 948 401 622 983  50 792 688 901  57  81 835 768 689\n",
      "  92 793 470 713 483 325 190 411  91 719 915 170 856 864 721  37 863  76\n",
      " 468 667  22  92 507 234 659   1 859 770 104 957 711 443 781 118 110 886\n",
      " 323 866 243 642 114 417  53 377 464 841 809 528 711 591 709 410  31 661\n",
      " 851 163 848  14 114 935 911 629 754  64]\n",
      "\n",
      "mean of the dataset is: 512.63\n",
      "median of the dataset is: 549.0\n",
      "standard deviation of the dataset is: 314.4707825856005\n",
      "variance of the dataset is: 98891.87310000001\n"
     ]
    }
   ],
   "source": [
    "ar=np.random.randint(1,1000,100)\n",
    "print(ar)\n",
    "print()\n",
    "print(\"mean of the dataset is:\" , np.mean(ar))\n",
    "print(\"median of the dataset is:\" , np.median(ar))\n",
    "print(\"standard deviation of the dataset is:\" , np.std(ar))\n",
    "print(\"variance of the dataset is:\" , np.var(ar))\n"
   ]
  },
  {
   "cell_type": "markdown",
   "id": "10fa9a0c",
   "metadata": {},
   "source": [
    "# 62. Generate an array of 50 random numbers between 1 and 100. Find the 25th and 75th percentiles of the dataset."
   ]
  },
  {
   "cell_type": "code",
   "execution_count": 17,
   "id": "b0d9aafa",
   "metadata": {},
   "outputs": [
    {
     "name": "stdout",
     "output_type": "stream",
     "text": [
      "[40 21 24 64 71 66 73 38 60 10 77 27  2 72 92 31  4 88 69 84 69 71 24 84\n",
      "  5  8 47 16 33 12 63 77 20 41 39 44 16 61 66 64 88 66 39 68 84 75 28  7\n",
      " 35 14]\n",
      "25th percentilesis: 24.0\n",
      "75th percentiles is :  70.5\n"
     ]
    }
   ],
   "source": [
    "arr=np.random.randint(1,100,50)\n",
    "print(arr)\n",
    "arr1 = np.percentile(arr,25)\n",
    "arr2 = np.percentile(arr,75)\n",
    "print(\"25th percentilesis:\", arr1)\n",
    "print(\"75th percentiles is : \" , arr2)"
   ]
  },
  {
   "cell_type": "markdown",
   "id": "612e87e6",
   "metadata": {},
   "source": [
    "# 63. Create two arrays representing two sets of variables. Compute the correlation coefficient between these arrays using NumPy's `corrcoef` function."
   ]
  },
  {
   "cell_type": "code",
   "execution_count": 18,
   "id": "1e562559",
   "metadata": {},
   "outputs": [
    {
     "name": "stdout",
     "output_type": "stream",
     "text": [
      "Array 1:  [0.23699927 0.11379823 0.32711291 0.66856855 0.45647371 0.30022209\n",
      " 0.15869898 0.68584534 0.42106484 0.07488209 0.07007491 0.1287491\n",
      " 0.72114158 0.73040321 0.495104   0.69400147 0.34392825 0.09925766\n",
      " 0.86219034 0.58073752 0.97717901 0.21977481 0.82124555 0.21247313\n",
      " 0.77774726 0.26079836 0.11458488 0.19264168 0.04554823 0.38965441\n",
      " 0.46821627 0.20974204 0.12785703 0.50968951 0.62986139 0.20140448\n",
      " 0.14430119 0.13378878 0.05801705 0.5593905  0.30551951 0.56291731\n",
      " 0.97696225 0.69803938 0.53476095 0.67831109 0.17152319 0.53678291\n",
      " 0.07484022 0.22070384]\n",
      "Array 2:  [0.65203442 0.57671924 0.8598541  0.07963652 0.59132136 0.46019699\n",
      " 0.9514009  0.41856585 0.96497682 0.4524699  0.92132265 0.15766603\n",
      " 0.77696068 0.71274456 0.9420676  0.63766186 0.440956   0.1983204\n",
      " 0.47383679 0.35461817 0.39074976 0.4410836  0.75491006 0.34906272\n",
      " 0.44915139 0.70107838 0.59327756 0.01382874 0.76911106 0.32057632\n",
      " 0.62976213 0.44862772 0.01873497 0.17841457 0.04889346 0.6332082\n",
      " 0.5437785  0.56833531 0.05757579 0.0730386  0.60071131 0.89898222\n",
      " 0.68476411 0.88943775 0.6818565  0.96281148 0.8491539  0.54938707\n",
      " 0.65042146 0.77710449]\n",
      "Correlation Coefficient Matrix: \n",
      " [[1.        0.0782131]\n",
      " [0.0782131 1.       ]]\n"
     ]
    }
   ],
   "source": [
    "import numpy as np\n",
    "\n",
    "# Create two arrays representing two sets of variables\n",
    "array1 = np.random.rand(50)  # Array of 50 random numbers between 0 and 1\n",
    "array2 = np.random.rand(50)  # Another array of 50 random numbers between 0 and 1\n",
    "\n",
    "# Compute the correlation coefficient between these arrays\n",
    "correlation_matrix = np.corrcoef(array1, array2)\n",
    "\n",
    "print(\"Array 1: \", array1)\n",
    "print(\"Array 2: \", array2)\n",
    "print(\"Correlation Coefficient Matrix: \\n\", correlation_matrix)\n"
   ]
  },
  {
   "cell_type": "markdown",
   "id": "6588383c",
   "metadata": {},
   "source": [
    "# 64. Create two matrices and perform matrix multiplication using NumPy's `dot` function."
   ]
  },
  {
   "cell_type": "code",
   "execution_count": 22,
   "id": "6b39ce98",
   "metadata": {},
   "outputs": [
    {
     "name": "stdout",
     "output_type": "stream",
     "text": [
      "Matrix 1:\n",
      " [[1 2 3]\n",
      " [4 5 6]]\n",
      "Matrix 2:\n",
      " [[ 7  8]\n",
      " [ 9 10]\n",
      " [11 12]]\n",
      "(2, 3)\n",
      "(3, 2)\n",
      "\n",
      "Result of Matrix Multiplication:\n",
      " [[ 58  64]\n",
      " [139 154]]\n",
      "(2, 2)\n"
     ]
    }
   ],
   "source": [
    "import numpy as np\n",
    "\n",
    "# Create two matrices\n",
    "matrix1 = np.array([[1, 2, 3], \n",
    "                    [4, 5, 6]])\n",
    "\n",
    "matrix2 = np.array([[7, 8], \n",
    "                    [9, 10], \n",
    "                    [11, 12]])\n",
    "\n",
    "# Perform matrix multiplication\n",
    "result = np.dot(matrix1, matrix2)\n",
    "\n",
    "print(\"Matrix 1:\\n\", matrix1)\n",
    "print(\"Matrix 2:\\n\", matrix2)\n",
    "print(matrix1.shape)\n",
    "print(matrix2.shape)\n",
    "print()\n",
    "print(\"Result of Matrix Multiplication:\\n\", result)\n",
    "print(result.shape)\n"
   ]
  },
  {
   "cell_type": "markdown",
   "id": "ce3c45c2",
   "metadata": {},
   "source": [
    "# 65. Create an array of 50 integers between 10 and 1000. Calculate the 10th, 50th (median), and 90th percentiles along with the first and third quartiles"
   ]
  },
  {
   "cell_type": "code",
   "execution_count": 36,
   "id": "455a0a55",
   "metadata": {},
   "outputs": [
    {
     "name": "stdout",
     "output_type": "stream",
     "text": [
      "[363 391 950 144 433 835 967 592 238 864 254 369 761 802 936  76 143 673\n",
      " 999  11 765 787 964 101 902 747 394 935 689 170 855 745 588 825 449  95\n",
      " 569 208 651 327 937 477 582 515 249 581 366 615 675 253]\n",
      "\n",
      "this is 90 percentile: 936.1\n",
      "this is 10 percentile: 143.9\n",
      "this is 50 percentile :  585.0\n",
      "\n",
      "quarter_1: 336.0\n",
      "quarter_3: 798.25\n"
     ]
    }
   ],
   "source": [
    "arr = np.random.randint(10,1000,50)\n",
    "print(arr)\n",
    "print()\n",
    "arr1 = np.percentile(arr,90)\n",
    "arr2=np.percentile(arr,10)\n",
    "arr3=np.percentile(arr,50)\n",
    "\n",
    "quartile_1 = np.percentile(arr,25)\n",
    "quartile_3 = np.percentile(arr,75)\n",
    "\n",
    "print(\"this is 90 percentile:\",arr1)\n",
    "print(\"this is 10 percentile:\",arr2)\n",
    "print(\"this is 50 percentile : \", arr3)\n",
    "print()\n",
    "print(\"quarter_1:\" , quartile_1)\n",
    "print(\"quarter_3:\", quartile_3)\n"
   ]
  },
  {
   "cell_type": "markdown",
   "id": "7b8f12fa",
   "metadata": {},
   "source": [
    "# 66. Create a NumPy array of integers and find the index of a specific element."
   ]
  },
  {
   "cell_type": "code",
   "execution_count": 38,
   "id": "c2516e0d",
   "metadata": {},
   "outputs": [
    {
     "name": "stdout",
     "output_type": "stream",
     "text": [
      "(array([1, 2, 3, 4, 5, 6, 7, 8, 9]), array([0, 1, 2, 3, 5, 6, 7, 8, 9], dtype=int64))\n"
     ]
    }
   ],
   "source": [
    "import numpy as np\n",
    "\n",
    "# Create a NumPy array of integers\n",
    "arr = np.array([1, 2, 3, 4, 3, 5, 6, 7, 8, 9, 9])\n",
    "\n",
    "# Find the index of a specific element, for example, the element '3'\n",
    "element_to_find = 3\n",
    "indices = np.where(arr == element_to_find)\n",
    "\n",
    "print(\"Array:\", arr)\n",
    "print(f\"Indices of element {element_to_find}:\", indices[0])\n"
   ]
  },
  {
   "cell_type": "markdown",
   "id": "b01651b2",
   "metadata": {},
   "source": [
    "# 67. Generate a random NumPy array and sort it in ascending order."
   ]
  },
  {
   "cell_type": "code",
   "execution_count": 39,
   "id": "316907a8",
   "metadata": {},
   "outputs": [
    {
     "name": "stdout",
     "output_type": "stream",
     "text": [
      "Random Array: [76 27 34 71  2 61 41 86 57 35]\n",
      "Sorted Array: [ 2 27 34 35 41 57 61 71 76 86]\n"
     ]
    }
   ],
   "source": [
    "import numpy as np\n",
    "\n",
    "# Generate a random NumPy array with 10 elements between 0 and 100\n",
    "random_array = np.random.randint(0, 100, size=10)\n",
    "\n",
    "# Sort the array in ascending order\n",
    "sorted_array = np.sort(random_array)\n",
    "\n",
    "print(\"Random Array:\", random_array)\n",
    "print(\"Sorted Array:\", sorted_array)\n"
   ]
  },
  {
   "cell_type": "markdown",
   "id": "c581b03c",
   "metadata": {},
   "source": [
    "# 68. Filter elements >20  in the given NumPy array."
   ]
  },
  {
   "cell_type": "code",
   "execution_count": 40,
   "id": "bdae3321",
   "metadata": {},
   "outputs": [
    {
     "name": "stdout",
     "output_type": "stream",
     "text": [
      "Original Array: [12 25  6 42  8 30]\n",
      "Filtered Array (elements > 20): [25 42 30]\n"
     ]
    }
   ],
   "source": [
    "import numpy as np\n",
    "\n",
    "# Create a NumPy array\n",
    "arr = np.array([12, 25, 6, 42, 8, 30])\n",
    "\n",
    "# Filter elements greater than 20\n",
    "filtered_array = arr[arr > 20]\n",
    "\n",
    "print(\"Original Array:\", arr)\n",
    "print(\"Filtered Array (elements > 20):\", filtered_array)\n"
   ]
  },
  {
   "cell_type": "markdown",
   "id": "eaae819a",
   "metadata": {},
   "source": [
    "# 69. Filter elements which are divisible by 3 from a given NumPy array."
   ]
  },
  {
   "cell_type": "code",
   "execution_count": 42,
   "id": "040643b9",
   "metadata": {},
   "outputs": [
    {
     "name": "stdout",
     "output_type": "stream",
     "text": [
      "original array [ 1  5  8 12 15]\n",
      "filtered array (which is divisible by 3 ):  [12 15]\n"
     ]
    }
   ],
   "source": [
    "arr = np.array([1, 5, 8, 12, 15])\n",
    "filtered_array = arr[arr%3==0]\n",
    "print(\"original array\" , arr)\n",
    "print(\"filtered array (which is divisible by 3 ): \", filtered_array)"
   ]
  },
  {
   "cell_type": "markdown",
   "id": "8e819f0d",
   "metadata": {},
   "source": [
    "# 70. Filter elements which are ≥ 20 and ≤ 40 from a given NumPy array."
   ]
  },
  {
   "cell_type": "code",
   "execution_count": 46,
   "id": "154197f7",
   "metadata": {},
   "outputs": [
    {
     "name": "stdout",
     "output_type": "stream",
     "text": [
      "original array is :  [10 20 30 40 50]\n",
      "after filter (when condition is applied) :  [20 30 40]\n"
     ]
    }
   ],
   "source": [
    "arr = np.array([10, 20, 30, 40, 50])\n",
    "filter_element = arr[(arr>=20)&(arr<=40)]\n",
    "print(\"original array is : \" , arr)\n",
    "print(\"after filter (when condition is applied) : \" , filter_element)"
   ]
  },
  {
   "cell_type": "markdown",
   "id": "6a885409",
   "metadata": {},
   "source": [
    "# 71. For the given NumPy array, check its byte order using the `dtype` attribute byteorder."
   ]
  },
  {
   "cell_type": "code",
   "execution_count": 47,
   "id": "aefbd72a",
   "metadata": {},
   "outputs": [
    {
     "name": "stdout",
     "output_type": "stream",
     "text": [
      "Original Array: [1 2 3]\n",
      "Byte Order: =\n"
     ]
    }
   ],
   "source": [
    "import numpy as np\n",
    "\n",
    "# Create a NumPy array\n",
    "arr = np.array([1, 2, 3])\n",
    "\n",
    "# Check the byte order using the dtype attribute's byteorder property\n",
    "byte_order = arr.dtype.byteorder\n",
    "\n",
    "print(\"Original Array:\", arr)\n",
    "print(\"Byte Order:\", byte_order)\n"
   ]
  },
  {
   "cell_type": "markdown",
   "id": "70bc87c8",
   "metadata": {},
   "source": [
    "# 72. For the given NumPy array, perform byte swapping in place using `byteswap()`."
   ]
  },
  {
   "cell_type": "code",
   "execution_count": 48,
   "id": "c8e6dc89",
   "metadata": {},
   "outputs": [
    {
     "name": "stdout",
     "output_type": "stream",
     "text": [
      "Modified array after byte swapping: [16777216 33554432 50331648]\n"
     ]
    }
   ],
   "source": [
    "import numpy as np\n",
    "\n",
    "# Define the NumPy array with dtype int32\n",
    "arr = np.array([1, 2, 3], dtype=np.int32)\n",
    "\n",
    "# Perform byte swapping in place\n",
    "arr.byteswap(True)\n",
    "\n",
    "# Print the modified array\n",
    "print(\"Modified array after byte swapping:\", arr)\n"
   ]
  },
  {
   "cell_type": "markdown",
   "id": "04952a0d",
   "metadata": {},
   "source": [
    "# 73. For the given NumPy array, swap its byte order without modifying the original array using `newbyteorder()`."
   ]
  },
  {
   "cell_type": "code",
   "execution_count": 49,
   "id": "ef65d9a8",
   "metadata": {},
   "outputs": [
    {
     "name": "stdout",
     "output_type": "stream",
     "text": [
      "Original array:\n",
      "[1 2 3]\n",
      "Swapped byte order array:\n",
      "[16777216 33554432 50331648]\n"
     ]
    }
   ],
   "source": [
    "import numpy as np\n",
    "\n",
    "arr = np.array([1, 2, 3], dtype=np.int32)\n",
    "\n",
    "# Swap byte order without modifying original array\n",
    "arr_swapped = arr.newbyteorder()\n",
    "\n",
    "# Print the original and swapped arrays\n",
    "print(\"Original array:\")\n",
    "print(arr)\n",
    "print(\"Swapped byte order array:\")\n",
    "print(arr_swapped)\n"
   ]
  },
  {
   "cell_type": "markdown",
   "id": "7e9d0c9c",
   "metadata": {},
   "source": [
    "# 74. For the given NumPy array and swap its byte order conditionally based on system endianness using `newbyteorder()`."
   ]
  },
  {
   "cell_type": "code",
   "execution_count": 50,
   "id": "b83e2f47",
   "metadata": {},
   "outputs": [
    {
     "name": "stdout",
     "output_type": "stream",
     "text": [
      "Original Array: [16777216 33554432 50331648]\n"
     ]
    }
   ],
   "source": [
    "import numpy as np\n",
    "\n",
    "arr = np.array([1, 2, 3], dtype=np.int32)\n",
    "\n",
    "# Check system endianness\n",
    "if arr.dtype.byteorder == '=':  # '=' means native byte order\n",
    "    # Swap byte order if not native\n",
    "    arr = arr.newbyteorder()\n",
    "\n",
    "print(\"Original Array:\", arr)\n"
   ]
  },
  {
   "cell_type": "markdown",
   "id": "58cda435",
   "metadata": {},
   "source": [
    "# 75. For the given NumPy array, check if byte swapping is necessary for the current system using `dtype` attribute `byteorder`."
   ]
  },
  {
   "cell_type": "code",
   "execution_count": 51,
   "id": "c3c2728f",
   "metadata": {},
   "outputs": [
    {
     "name": "stdout",
     "output_type": "stream",
     "text": [
      "No byte swapping necessary (native byte order)\n"
     ]
    }
   ],
   "source": [
    "import numpy as np\n",
    "\n",
    "arr = np.array([1, 2, 3], dtype=np.int32)\n",
    "\n",
    "byte_order = arr.dtype.byteorder\n",
    "\n",
    "if byte_order == '=':\n",
    "    print(\"No byte swapping necessary (native byte order)\")\n",
    "else:\n",
    "    print(f\"Byte swapping necessary: Current byte order is '{byte_order}'\")\n"
   ]
  },
  {
   "cell_type": "markdown",
   "id": "b4823a44",
   "metadata": {},
   "source": [
    "# 76. Create a NumPy array `arr1` with values from 1 to 10. Create a copy of `arr1` named `copy_arr` and modify an element in `copy_arr`. Check if modifying `copy_arr` affects `arr1`."
   ]
  },
  {
   "cell_type": "code",
   "execution_count": 61,
   "id": "5a1f8aaf",
   "metadata": {},
   "outputs": [
    {
     "name": "stdout",
     "output_type": "stream",
     "text": [
      "Original arr1: [ 1  2  3  4  5  6  7  8  9 10]\n",
      "Modified copy_arr: [100   2   3   4   5   6   7   8   9  10]\n"
     ]
    }
   ],
   "source": [
    "import numpy as np\n",
    "\n",
    "# Create arr1 with values from 1 to 10\n",
    "arr1 = np.arange(1, 11)\n",
    "\n",
    "# Create a copy of arr1\n",
    "copy_arr = arr1.copy()\n",
    "\n",
    "# Modify an element in copy_arr\n",
    "copy_arr[0] = 100\n",
    "\n",
    "# Check if modifying copy_arr affects arr1\n",
    "print(\"Original arr1:\", arr1)\n",
    "print(\"Modified copy_arr:\", copy_arr)\n",
    "\n"
   ]
  },
  {
   "cell_type": "markdown",
   "id": "844d7f71",
   "metadata": {},
   "source": [
    "# 77. Create a 2D NumPy array `matrix` of shape (3, 3) with random integers. Extract a slice `view_slice` from the matrix. Modify an element in `view_slice` and observe if it changes the original `matrix`."
   ]
  },
  {
   "cell_type": "code",
   "execution_count": 62,
   "id": "033df225",
   "metadata": {},
   "outputs": [
    {
     "name": "stdout",
     "output_type": "stream",
     "text": [
      "Original matrix:\n",
      "[[5 5 7]\n",
      " [8 8 7]\n",
      " [2 4 1]]\n",
      "\n",
      "Modified view_slice:\n",
      "[[100   7]\n",
      " [  4   1]]\n",
      "\n",
      "Original matrix after modification:\n",
      "[[  5   5   7]\n",
      " [  8 100   7]\n",
      " [  2   4   1]]\n"
     ]
    }
   ],
   "source": [
    "import numpy as np\n",
    "\n",
    "# Create a 2D NumPy array (matrix) of shape (3, 3) with random integers\n",
    "matrix = np.random.randint(1, 10, size=(3, 3))\n",
    "print(\"Original matrix:\")\n",
    "print(matrix)\n",
    "\n",
    "# Extract a slice (view_slice) from the matrix\n",
    "view_slice = matrix[1:, 1:]\n",
    "\n",
    "# Modify an element in view_slice\n",
    "view_slice[0, 0] = 100\n",
    "\n",
    "# Observe if modifying view_slice changes the original matrix\n",
    "print(\"\\nModified view_slice:\")\n",
    "print(view_slice)\n",
    "\n",
    "print(\"\\nOriginal matrix after modification:\")\n",
    "print(matrix)\n"
   ]
  },
  {
   "cell_type": "markdown",
   "id": "be441481",
   "metadata": {},
   "source": [
    "# 78. Create a NumPy array `array_a` of shape (4, 3) with sequential integers from 1 to 12. Extract a slicen `view_b` from `array_a` and broadcast the addition of 5 to view_b. Check if it alters the original `array_a`."
   ]
  },
  {
   "cell_type": "code",
   "execution_count": 63,
   "id": "40e65e48",
   "metadata": {},
   "outputs": [
    {
     "name": "stdout",
     "output_type": "stream",
     "text": [
      "Original array_a:\n",
      "[[ 1  2  3]\n",
      " [ 4  5  6]\n",
      " [ 7  8  9]\n",
      " [10 11 12]]\n",
      "\n",
      "Slice view_b from array_a:\n",
      "[[5 6]\n",
      " [8 9]]\n",
      "\n",
      "Modified view_b after addition:\n",
      "[[10 11]\n",
      " [13 14]]\n",
      "\n",
      "Original array_a after modification:\n",
      "[[ 1  2  3]\n",
      " [ 4 10 11]\n",
      " [ 7 13 14]\n",
      " [10 11 12]]\n"
     ]
    }
   ],
   "source": [
    "import numpy as np\n",
    "\n",
    "# Create array_a with shape (4, 3) containing sequential integers from 1 to 12\n",
    "array_a = np.arange(1, 13).reshape(4, 3)\n",
    "print(\"Original array_a:\")\n",
    "print(array_a)\n",
    "\n",
    "# Extract a slice (view_b) from array_a\n",
    "view_b = array_a[1:3, 1:3]\n",
    "print(\"\\nSlice view_b from array_a:\")\n",
    "print(view_b)\n",
    "\n",
    "# Broadcast addition of 5 to view_b\n",
    "view_b += 5\n",
    "print(\"\\nModified view_b after addition:\")\n",
    "print(view_b)\n",
    "\n",
    "# Check if it alters the original array_a\n",
    "print(\"\\nOriginal array_a after modification:\")\n",
    "print(array_a)\n"
   ]
  },
  {
   "cell_type": "markdown",
   "id": "0d754348",
   "metadata": {},
   "source": [
    "# 79. Create a NumPy array `orig_array` of shape (2, 4) with values from 1 to 8. Create a reshaped view `reshaped_view` of shape (4, 2) from orig_array. Modify an element in `reshaped_view` and check if it reflects changes in the original `orig_array`."
   ]
  },
  {
   "cell_type": "code",
   "execution_count": 64,
   "id": "0b0fcda7",
   "metadata": {},
   "outputs": [
    {
     "name": "stdout",
     "output_type": "stream",
     "text": [
      "Original orig_array:\n",
      "[[1 2 3 4]\n",
      " [5 6 7 8]]\n",
      "\n",
      "Reshaped view reshaped_view:\n",
      "[[1 2]\n",
      " [3 4]\n",
      " [5 6]\n",
      " [7 8]]\n",
      "\n",
      "Modified reshaped_view:\n",
      "[[100   2]\n",
      " [  3   4]\n",
      " [  5   6]\n",
      " [  7   8]]\n",
      "\n",
      "Original orig_array after modification:\n",
      "[[100   2   3   4]\n",
      " [  5   6   7   8]]\n"
     ]
    }
   ],
   "source": [
    "    import numpy as np\n",
    "\n",
    "# Create orig_array with shape (2, 4) containing values from 1 to 8\n",
    "orig_array = np.arange(1, 9).reshape(2, 4)\n",
    "print(\"Original orig_array:\")\n",
    "print(orig_array)\n",
    "\n",
    "# Create reshaped_view with shape (4, 2) from orig_array\n",
    "reshaped_view = orig_array.reshape(4, 2)\n",
    "print(\"\\nReshaped view reshaped_view:\")\n",
    "print(reshaped_view)\n",
    "\n",
    "# Modify an element in reshaped_view\n",
    "reshaped_view[0, 0] = 100\n",
    "\n",
    "# Check if it reflects changes in the original orig_array\n",
    "print(\"\\nModified reshaped_view:\")\n",
    "print(reshaped_view)\n",
    "\n",
    "print(\"\\nOriginal orig_array after modification:\")\n",
    "print(orig_array)\n"
   ]
  },
  {
   "cell_type": "markdown",
   "id": "acaae8cc",
   "metadata": {},
   "source": [
    "# 80. Create a NumPy array `data` of shape (3, 4) with random integers. Extract a copy `data_copy` of elements greater than 5. Modify an element in `data_copy` and verify if it affects the original `data`."
   ]
  },
  {
   "cell_type": "code",
   "execution_count": 65,
   "id": "308fa26d",
   "metadata": {},
   "outputs": [
    {
     "name": "stdout",
     "output_type": "stream",
     "text": [
      "Original data:\n",
      "[[1 7 4 9]\n",
      " [9 2 4 4]\n",
      " [9 4 4 4]]\n",
      "\n",
      "Modified data_copy:\n",
      "[100   9   9   9]\n",
      "\n",
      "Original data after modification:\n",
      "[[1 7 4 9]\n",
      " [9 2 4 4]\n",
      " [9 4 4 4]]\n"
     ]
    }
   ],
   "source": [
    "import numpy as np\n",
    "\n",
    "# Create data with shape (3, 4) containing random integers\n",
    "data = np.random.randint(1, 10, size=(3, 4))\n",
    "print(\"Original data:\")\n",
    "print(data)\n",
    "\n",
    "# Extract a copy data_copy of elements greater than 5 from data\n",
    "data_copy = data[data > 5].copy()  # Use .copy() to create a separate copy\n",
    "\n",
    "# Modify an element in data_copy\n",
    "if data_copy.size > 0:\n",
    "    data_copy[0] = 100\n",
    "\n",
    "# Verify if modifying data_copy affects the original data\n",
    "print(\"\\nModified data_copy:\")\n",
    "print(data_copy)\n",
    "\n",
    "print(\"\\nOriginal data after modification:\")\n",
    "print(data)\n"
   ]
  },
  {
   "cell_type": "markdown",
   "id": "118c3315",
   "metadata": {},
   "source": [
    "# 81. Create two matrices A and B of identical shape containing integers and perform addition and subtraction operations between them."
   ]
  },
  {
   "cell_type": "code",
   "execution_count": 66,
   "id": "9cbdee85",
   "metadata": {},
   "outputs": [
    {
     "name": "stdout",
     "output_type": "stream",
     "text": [
      "Matrix A:\n",
      "[[1 2 3]\n",
      " [4 5 6]]\n",
      "\n",
      "Matrix B:\n",
      "[[ 7  8  9]\n",
      " [10 11 12]]\n",
      "\n",
      "Addition result (A + B):\n",
      "[[ 8 10 12]\n",
      " [14 16 18]]\n",
      "\n",
      "Subtraction result (A - B):\n",
      "[[-6 -6 -6]\n",
      " [-6 -6 -6]]\n"
     ]
    }
   ],
   "source": [
    "import numpy as np\n",
    "\n",
    "# Create two matrices A and B of identical shape with integers\n",
    "A = np.array([[1, 2, 3],\n",
    "              [4, 5, 6]])\n",
    "\n",
    "B = np.array([[7, 8, 9],\n",
    "              [10, 11, 12]])\n",
    "\n",
    "# Perform addition and subtraction between A and B\n",
    "addition_result = A + B\n",
    "subtraction_result = A - B\n",
    "\n",
    "# Print the results\n",
    "print(\"Matrix A:\")\n",
    "print(A)\n",
    "\n",
    "print(\"\\nMatrix B:\")\n",
    "print(B)\n",
    "\n",
    "print(\"\\nAddition result (A + B):\")\n",
    "print(addition_result)\n",
    "\n",
    "print(\"\\nSubtraction result (A - B):\")\n",
    "print(subtraction_result)\n"
   ]
  },
  {
   "cell_type": "markdown",
   "id": "4aca51f9",
   "metadata": {},
   "source": [
    "# 82. Generate two matrices `C` (3x2) and `D` (2x4) and perform matrix multiplication."
   ]
  },
  {
   "cell_type": "code",
   "execution_count": 67,
   "id": "6ae384d9",
   "metadata": {},
   "outputs": [
    {
     "name": "stdout",
     "output_type": "stream",
     "text": [
      "[[ 3  6  9 14]\n",
      " [ 5 10 15 23]\n",
      " [ 3  6  9 14]]\n"
     ]
    }
   ],
   "source": [
    "a = np.array([[1,2],[2,3],[1,2]])\n",
    "b = np.array([[1,2,3,4],[1,2,3,5]])\n",
    "print(a@b)"
   ]
  },
  {
   "cell_type": "markdown",
   "id": "47fa0e0f",
   "metadata": {},
   "source": [
    "# 83. Create a matrix `E` and find its transpose."
   ]
  },
  {
   "cell_type": "code",
   "execution_count": 68,
   "id": "13e5e2bb",
   "metadata": {},
   "outputs": [
    {
     "name": "stdout",
     "output_type": "stream",
     "text": [
      "[[1 1 2]\n",
      " [2 2 3]\n",
      " [3 3 4]]\n"
     ]
    }
   ],
   "source": [
    "E =  np.array([[1,2,3],[1,2,3],[2,3,4]])\n",
    "print(E.T)"
   ]
  },
  {
   "cell_type": "markdown",
   "id": "89e48871",
   "metadata": {},
   "source": [
    "# 84. Generate a square matrix `F` and compute its determinant."
   ]
  },
  {
   "cell_type": "code",
   "execution_count": 69,
   "id": "e9ebd6d0",
   "metadata": {},
   "outputs": [
    {
     "name": "stdout",
     "output_type": "stream",
     "text": [
      "-1.0\n"
     ]
    }
   ],
   "source": [
    "A = np.array([[1,2],[2,3]])\n",
    "print(np.linalg.det(A))"
   ]
  },
  {
   "cell_type": "markdown",
   "id": "004a38de",
   "metadata": {},
   "source": [
    "# 85. Create a square matrix `G` and find its inverse."
   ]
  },
  {
   "cell_type": "code",
   "execution_count": 84,
   "id": "3c8d6c09",
   "metadata": {},
   "outputs": [],
   "source": [
    "identity_matrix  = np.eye(2).astype(\"int\")"
   ]
  },
  {
   "cell_type": "code",
   "execution_count": 85,
   "id": "0f44c818",
   "metadata": {},
   "outputs": [
    {
     "data": {
      "text/plain": [
       "array([[1, 0],\n",
       "       [0, 1]])"
      ]
     },
     "execution_count": 85,
     "metadata": {},
     "output_type": "execute_result"
    }
   ],
   "source": [
    "identity_matrix"
   ]
  },
  {
   "cell_type": "code",
   "execution_count": 86,
   "id": "638d9483",
   "metadata": {},
   "outputs": [
    {
     "name": "stdout",
     "output_type": "stream",
     "text": [
      "[[-3.  2.]\n",
      " [ 2. -1.]]\n"
     ]
    }
   ],
   "source": [
    "A = np.array([[1,2],[2,3]])\n",
    "inverse_matrix = np.linalg.inv(A)\n",
    "print(inverse_matrix)"
   ]
  },
  {
   "cell_type": "code",
   "execution_count": null,
   "id": "4df2d398",
   "metadata": {},
   "outputs": [],
   "source": []
  }
 ],
 "metadata": {
  "kernelspec": {
   "display_name": "Python 3 (ipykernel)",
   "language": "python",
   "name": "python3"
  },
  "language_info": {
   "codemirror_mode": {
    "name": "ipython",
    "version": 3
   },
   "file_extension": ".py",
   "mimetype": "text/x-python",
   "name": "python",
   "nbconvert_exporter": "python",
   "pygments_lexer": "ipython3",
   "version": "3.11.5"
  }
 },
 "nbformat": 4,
 "nbformat_minor": 5
}
